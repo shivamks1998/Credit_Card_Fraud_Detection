{
  "cells": [
    {
      "cell_type": "code",
      "execution_count": null,
      "metadata": {
        "colab": {
          "base_uri": "https://localhost:8080/"
        },
        "id": "_Fx2km0dA0fj",
        "outputId": "bd12cc0d-dc84-4117-af81-ad9b4c22bdd6"
      },
      "outputs": [
        {
          "name": "stdout",
          "output_type": "stream",
          "text": [
            "Looking in indexes: https://pypi.org/simple, https://us-python.pkg.dev/colab-wheels/public/simple/\n",
            "Collecting pyspark\n",
            "  Downloading pyspark-3.3.2.tar.gz (281.4 MB)\n",
            "\u001b[2K     \u001b[90m━━━━━━━━━━━━━━━━━━━━━━━━━━━━━━━━━━━━━━━\u001b[0m \u001b[32m281.4/281.4 MB\u001b[0m \u001b[31m5.1 MB/s\u001b[0m eta \u001b[36m0:00:00\u001b[0m\n",
            "\u001b[?25h  Preparing metadata (setup.py) ... \u001b[?25l\u001b[?25hdone\n",
            "Collecting py4j==0.10.9.5\n",
            "  Downloading py4j-0.10.9.5-py2.py3-none-any.whl (199 kB)\n",
            "\u001b[2K     \u001b[90m━━━━━━━━━━━━━━━━━━━━━━━━━━━━━━━━━━━━━━\u001b[0m \u001b[32m199.7/199.7 KB\u001b[0m \u001b[31m25.2 MB/s\u001b[0m eta \u001b[36m0:00:00\u001b[0m\n",
            "\u001b[?25hBuilding wheels for collected packages: pyspark\n",
            "  Building wheel for pyspark (setup.py) ... \u001b[?25l\u001b[?25hdone\n",
            "  Created wheel for pyspark: filename=pyspark-3.3.2-py2.py3-none-any.whl size=281824025 sha256=4eeb3dcbd9d9ca5ef23785b3d88a4b1851f17f645b72663c2378759fe7e9760f\n",
            "  Stored in directory: /root/.cache/pip/wheels/b1/59/a0/a1a0624b5e865fd389919c1a10f53aec9b12195d6747710baf\n",
            "Successfully built pyspark\n",
            "Installing collected packages: py4j, pyspark\n",
            "Successfully installed py4j-0.10.9.5 pyspark-3.3.2\n"
          ]
        }
      ],
      "source": [
        "!pip install pyspark"
      ]
    },
    {
      "cell_type": "code",
      "execution_count": null,
      "metadata": {
        "id": "w2MMBk_N89wi"
      },
      "outputs": [],
      "source": [
        "import pyspark\n",
        "import pandas as pd\n",
        "from pyspark.sql import SparkSession\n",
        "from pyspark.sql.functions import col\n",
        "import seaborn as sns\n",
        "from pyspark.sql.functions import mean\n",
        "import  pyspark.sql.functions as F\n",
        "from pyspark.sql.functions import sum, when"
      ]
    },
    {
      "cell_type": "code",
      "execution_count": null,
      "metadata": {
        "id": "4WLY5N9aBV9_"
      },
      "outputs": [],
      "source": [
        "from google.colab import drive\n",
        "drive.mount('/content/drive')"
      ]
    },
    {
      "cell_type": "code",
      "execution_count": null,
      "metadata": {
        "colab": {
          "base_uri": "https://localhost:8080/"
        },
        "id": "EXIrrX8Z89ws",
        "outputId": "b3d81cda-afdf-4afe-d6c4-af7e0a2638cb"
      },
      "outputs": [
        {
          "name": "stdout",
          "output_type": "stream",
          "text": [
            "root\n",
            " |-- SK_ID_CURR: integer (nullable = true)\n",
            " |-- TARGET: integer (nullable = true)\n",
            " |-- NAME_CONTRACT_TYPE: string (nullable = true)\n",
            " |-- CODE_GENDER: string (nullable = true)\n",
            " |-- FLAG_OWN_CAR: string (nullable = true)\n",
            " |-- FLAG_OWN_REALTY: string (nullable = true)\n",
            " |-- CNT_CHILDREN: integer (nullable = true)\n",
            " |-- AMT_INCOME_TOTAL: double (nullable = true)\n",
            " |-- AMT_CREDIT: double (nullable = true)\n",
            " |-- AMT_ANNUITY: double (nullable = true)\n",
            " |-- AMT_GOODS_PRICE: double (nullable = true)\n",
            " |-- NAME_TYPE_SUITE: string (nullable = true)\n",
            " |-- NAME_INCOME_TYPE: string (nullable = true)\n",
            " |-- NAME_EDUCATION_TYPE: string (nullable = true)\n",
            " |-- NAME_FAMILY_STATUS: string (nullable = true)\n",
            " |-- NAME_HOUSING_TYPE: string (nullable = true)\n",
            " |-- REGION_POPULATION_RELATIVE: double (nullable = true)\n",
            " |-- DAYS_BIRTH: integer (nullable = true)\n",
            " |-- DAYS_EMPLOYED: integer (nullable = true)\n",
            " |-- DAYS_REGISTRATION: double (nullable = true)\n",
            " |-- DAYS_ID_PUBLISH: integer (nullable = true)\n",
            " |-- OWN_CAR_AGE: double (nullable = true)\n",
            " |-- FLAG_MOBIL: integer (nullable = true)\n",
            " |-- FLAG_EMP_PHONE: integer (nullable = true)\n",
            " |-- FLAG_WORK_PHONE: integer (nullable = true)\n",
            " |-- FLAG_CONT_MOBILE: integer (nullable = true)\n",
            " |-- FLAG_PHONE: integer (nullable = true)\n",
            " |-- FLAG_EMAIL: integer (nullable = true)\n",
            " |-- OCCUPATION_TYPE: string (nullable = true)\n",
            " |-- CNT_FAM_MEMBERS: double (nullable = true)\n",
            " |-- REGION_RATING_CLIENT: integer (nullable = true)\n",
            " |-- REGION_RATING_CLIENT_W_CITY: integer (nullable = true)\n",
            " |-- WEEKDAY_APPR_PROCESS_START: string (nullable = true)\n",
            " |-- HOUR_APPR_PROCESS_START: integer (nullable = true)\n",
            " |-- REG_REGION_NOT_LIVE_REGION: integer (nullable = true)\n",
            " |-- REG_REGION_NOT_WORK_REGION: integer (nullable = true)\n",
            " |-- LIVE_REGION_NOT_WORK_REGION: integer (nullable = true)\n",
            " |-- REG_CITY_NOT_LIVE_CITY: integer (nullable = true)\n",
            " |-- REG_CITY_NOT_WORK_CITY: integer (nullable = true)\n",
            " |-- LIVE_CITY_NOT_WORK_CITY: integer (nullable = true)\n",
            " |-- ORGANIZATION_TYPE: string (nullable = true)\n",
            " |-- EXT_SOURCE_1: double (nullable = true)\n",
            " |-- EXT_SOURCE_2: double (nullable = true)\n",
            " |-- EXT_SOURCE_3: double (nullable = true)\n",
            " |-- APARTMENTS_AVG: double (nullable = true)\n",
            " |-- BASEMENTAREA_AVG: double (nullable = true)\n",
            " |-- YEARS_BEGINEXPLUATATION_AVG: double (nullable = true)\n",
            " |-- YEARS_BUILD_AVG: double (nullable = true)\n",
            " |-- COMMONAREA_AVG: double (nullable = true)\n",
            " |-- ELEVATORS_AVG: double (nullable = true)\n",
            " |-- ENTRANCES_AVG: double (nullable = true)\n",
            " |-- FLOORSMAX_AVG: double (nullable = true)\n",
            " |-- FLOORSMIN_AVG: double (nullable = true)\n",
            " |-- LANDAREA_AVG: double (nullable = true)\n",
            " |-- LIVINGAPARTMENTS_AVG: double (nullable = true)\n",
            " |-- LIVINGAREA_AVG: double (nullable = true)\n",
            " |-- NONLIVINGAPARTMENTS_AVG: double (nullable = true)\n",
            " |-- NONLIVINGAREA_AVG: double (nullable = true)\n",
            " |-- APARTMENTS_MODE: double (nullable = true)\n",
            " |-- BASEMENTAREA_MODE: double (nullable = true)\n",
            " |-- YEARS_BEGINEXPLUATATION_MODE: double (nullable = true)\n",
            " |-- YEARS_BUILD_MODE: double (nullable = true)\n",
            " |-- COMMONAREA_MODE: double (nullable = true)\n",
            " |-- ELEVATORS_MODE: double (nullable = true)\n",
            " |-- ENTRANCES_MODE: double (nullable = true)\n",
            " |-- FLOORSMAX_MODE: double (nullable = true)\n",
            " |-- FLOORSMIN_MODE: double (nullable = true)\n",
            " |-- LANDAREA_MODE: double (nullable = true)\n",
            " |-- LIVINGAPARTMENTS_MODE: double (nullable = true)\n",
            " |-- LIVINGAREA_MODE: double (nullable = true)\n",
            " |-- NONLIVINGAPARTMENTS_MODE: double (nullable = true)\n",
            " |-- NONLIVINGAREA_MODE: double (nullable = true)\n",
            " |-- APARTMENTS_MEDI: double (nullable = true)\n",
            " |-- BASEMENTAREA_MEDI: double (nullable = true)\n",
            " |-- YEARS_BEGINEXPLUATATION_MEDI: double (nullable = true)\n",
            " |-- YEARS_BUILD_MEDI: double (nullable = true)\n",
            " |-- COMMONAREA_MEDI: double (nullable = true)\n",
            " |-- ELEVATORS_MEDI: double (nullable = true)\n",
            " |-- ENTRANCES_MEDI: double (nullable = true)\n",
            " |-- FLOORSMAX_MEDI: double (nullable = true)\n",
            " |-- FLOORSMIN_MEDI: double (nullable = true)\n",
            " |-- LANDAREA_MEDI: double (nullable = true)\n",
            " |-- LIVINGAPARTMENTS_MEDI: double (nullable = true)\n",
            " |-- LIVINGAREA_MEDI: double (nullable = true)\n",
            " |-- NONLIVINGAPARTMENTS_MEDI: double (nullable = true)\n",
            " |-- NONLIVINGAREA_MEDI: double (nullable = true)\n",
            " |-- FONDKAPREMONT_MODE: string (nullable = true)\n",
            " |-- HOUSETYPE_MODE: string (nullable = true)\n",
            " |-- TOTALAREA_MODE: double (nullable = true)\n",
            " |-- WALLSMATERIAL_MODE: string (nullable = true)\n",
            " |-- EMERGENCYSTATE_MODE: string (nullable = true)\n",
            " |-- OBS_30_CNT_SOCIAL_CIRCLE: double (nullable = true)\n",
            " |-- DEF_30_CNT_SOCIAL_CIRCLE: double (nullable = true)\n",
            " |-- OBS_60_CNT_SOCIAL_CIRCLE: double (nullable = true)\n",
            " |-- DEF_60_CNT_SOCIAL_CIRCLE: double (nullable = true)\n",
            " |-- DAYS_LAST_PHONE_CHANGE: double (nullable = true)\n",
            " |-- FLAG_DOCUMENT_2: integer (nullable = true)\n",
            " |-- FLAG_DOCUMENT_3: integer (nullable = true)\n",
            " |-- FLAG_DOCUMENT_4: integer (nullable = true)\n",
            " |-- FLAG_DOCUMENT_5: integer (nullable = true)\n",
            " |-- FLAG_DOCUMENT_6: integer (nullable = true)\n",
            " |-- FLAG_DOCUMENT_7: integer (nullable = true)\n",
            " |-- FLAG_DOCUMENT_8: integer (nullable = true)\n",
            " |-- FLAG_DOCUMENT_9: integer (nullable = true)\n",
            " |-- FLAG_DOCUMENT_10: integer (nullable = true)\n",
            " |-- FLAG_DOCUMENT_11: integer (nullable = true)\n",
            " |-- FLAG_DOCUMENT_12: integer (nullable = true)\n",
            " |-- FLAG_DOCUMENT_13: integer (nullable = true)\n",
            " |-- FLAG_DOCUMENT_14: integer (nullable = true)\n",
            " |-- FLAG_DOCUMENT_15: integer (nullable = true)\n",
            " |-- FLAG_DOCUMENT_16: integer (nullable = true)\n",
            " |-- FLAG_DOCUMENT_17: integer (nullable = true)\n",
            " |-- FLAG_DOCUMENT_18: integer (nullable = true)\n",
            " |-- FLAG_DOCUMENT_19: integer (nullable = true)\n",
            " |-- FLAG_DOCUMENT_20: integer (nullable = true)\n",
            " |-- FLAG_DOCUMENT_21: integer (nullable = true)\n",
            " |-- AMT_REQ_CREDIT_BUREAU_HOUR: double (nullable = true)\n",
            " |-- AMT_REQ_CREDIT_BUREAU_DAY: double (nullable = true)\n",
            " |-- AMT_REQ_CREDIT_BUREAU_WEEK: double (nullable = true)\n",
            " |-- AMT_REQ_CREDIT_BUREAU_MON: double (nullable = true)\n",
            " |-- AMT_REQ_CREDIT_BUREAU_QRT: double (nullable = true)\n",
            " |-- AMT_REQ_CREDIT_BUREAU_YEAR: double (nullable = true)\n",
            "\n"
          ]
        }
      ],
      "source": [
        "#Spark sSession is a entry point for the app\n",
        "sc = SparkSession.builder.appName(\"das\").getOrCreate()\n",
        "df = sc.read.csv(\"/content/drive/MyDrive/credit/application_train.csv\",header=True,inferSchema=True)\n",
        "df.printSchema()  #it gives the insight about the data"
      ]
    },
    {
      "cell_type": "code",
      "execution_count": null,
      "metadata": {
        "colab": {
          "base_uri": "https://localhost:8080/",
          "height": 299
        },
        "id": "4fysRZrh89wx",
        "outputId": "b1c49fc8-c8f4-417e-8e4f-9d1ad355eddc"
      },
      "outputs": [
        {
          "data": {
            "text/html": [
              "\n",
              "  <div id=\"df-5603efda-16d5-4b8b-9315-33f450bf82a8\">\n",
              "    <div class=\"colab-df-container\">\n",
              "      <div>\n",
              "<style scoped>\n",
              "    .dataframe tbody tr th:only-of-type {\n",
              "        vertical-align: middle;\n",
              "    }\n",
              "\n",
              "    .dataframe tbody tr th {\n",
              "        vertical-align: top;\n",
              "    }\n",
              "\n",
              "    .dataframe thead th {\n",
              "        text-align: right;\n",
              "    }\n",
              "</style>\n",
              "<table border=\"1\" class=\"dataframe\">\n",
              "  <thead>\n",
              "    <tr style=\"text-align: right;\">\n",
              "      <th></th>\n",
              "      <th>SK_ID_CURR</th>\n",
              "      <th>TARGET</th>\n",
              "      <th>NAME_CONTRACT_TYPE</th>\n",
              "      <th>CODE_GENDER</th>\n",
              "      <th>FLAG_OWN_CAR</th>\n",
              "      <th>FLAG_OWN_REALTY</th>\n",
              "      <th>CNT_CHILDREN</th>\n",
              "      <th>AMT_INCOME_TOTAL</th>\n",
              "      <th>AMT_CREDIT</th>\n",
              "      <th>AMT_ANNUITY</th>\n",
              "      <th>...</th>\n",
              "      <th>FLAG_DOCUMENT_18</th>\n",
              "      <th>FLAG_DOCUMENT_19</th>\n",
              "      <th>FLAG_DOCUMENT_20</th>\n",
              "      <th>FLAG_DOCUMENT_21</th>\n",
              "      <th>AMT_REQ_CREDIT_BUREAU_HOUR</th>\n",
              "      <th>AMT_REQ_CREDIT_BUREAU_DAY</th>\n",
              "      <th>AMT_REQ_CREDIT_BUREAU_WEEK</th>\n",
              "      <th>AMT_REQ_CREDIT_BUREAU_MON</th>\n",
              "      <th>AMT_REQ_CREDIT_BUREAU_QRT</th>\n",
              "      <th>AMT_REQ_CREDIT_BUREAU_YEAR</th>\n",
              "    </tr>\n",
              "  </thead>\n",
              "  <tbody>\n",
              "    <tr>\n",
              "      <th>0</th>\n",
              "      <td>100002</td>\n",
              "      <td>1</td>\n",
              "      <td>Cash loans</td>\n",
              "      <td>M</td>\n",
              "      <td>N</td>\n",
              "      <td>Y</td>\n",
              "      <td>0</td>\n",
              "      <td>202500.0</td>\n",
              "      <td>406597.5</td>\n",
              "      <td>24700.5</td>\n",
              "      <td>...</td>\n",
              "      <td>0</td>\n",
              "      <td>0</td>\n",
              "      <td>0</td>\n",
              "      <td>0</td>\n",
              "      <td>0.0</td>\n",
              "      <td>0.0</td>\n",
              "      <td>0.0</td>\n",
              "      <td>0.0</td>\n",
              "      <td>0.0</td>\n",
              "      <td>1.0</td>\n",
              "    </tr>\n",
              "    <tr>\n",
              "      <th>1</th>\n",
              "      <td>100003</td>\n",
              "      <td>0</td>\n",
              "      <td>Cash loans</td>\n",
              "      <td>F</td>\n",
              "      <td>N</td>\n",
              "      <td>N</td>\n",
              "      <td>0</td>\n",
              "      <td>270000.0</td>\n",
              "      <td>1293502.5</td>\n",
              "      <td>35698.5</td>\n",
              "      <td>...</td>\n",
              "      <td>0</td>\n",
              "      <td>0</td>\n",
              "      <td>0</td>\n",
              "      <td>0</td>\n",
              "      <td>0.0</td>\n",
              "      <td>0.0</td>\n",
              "      <td>0.0</td>\n",
              "      <td>0.0</td>\n",
              "      <td>0.0</td>\n",
              "      <td>0.0</td>\n",
              "    </tr>\n",
              "    <tr>\n",
              "      <th>2</th>\n",
              "      <td>100004</td>\n",
              "      <td>0</td>\n",
              "      <td>Revolving loans</td>\n",
              "      <td>M</td>\n",
              "      <td>Y</td>\n",
              "      <td>Y</td>\n",
              "      <td>0</td>\n",
              "      <td>67500.0</td>\n",
              "      <td>135000.0</td>\n",
              "      <td>6750.0</td>\n",
              "      <td>...</td>\n",
              "      <td>0</td>\n",
              "      <td>0</td>\n",
              "      <td>0</td>\n",
              "      <td>0</td>\n",
              "      <td>0.0</td>\n",
              "      <td>0.0</td>\n",
              "      <td>0.0</td>\n",
              "      <td>0.0</td>\n",
              "      <td>0.0</td>\n",
              "      <td>0.0</td>\n",
              "    </tr>\n",
              "    <tr>\n",
              "      <th>3</th>\n",
              "      <td>100006</td>\n",
              "      <td>0</td>\n",
              "      <td>Cash loans</td>\n",
              "      <td>F</td>\n",
              "      <td>N</td>\n",
              "      <td>Y</td>\n",
              "      <td>0</td>\n",
              "      <td>135000.0</td>\n",
              "      <td>312682.5</td>\n",
              "      <td>29686.5</td>\n",
              "      <td>...</td>\n",
              "      <td>0</td>\n",
              "      <td>0</td>\n",
              "      <td>0</td>\n",
              "      <td>0</td>\n",
              "      <td>NaN</td>\n",
              "      <td>NaN</td>\n",
              "      <td>NaN</td>\n",
              "      <td>NaN</td>\n",
              "      <td>NaN</td>\n",
              "      <td>NaN</td>\n",
              "    </tr>\n",
              "    <tr>\n",
              "      <th>4</th>\n",
              "      <td>100007</td>\n",
              "      <td>0</td>\n",
              "      <td>Cash loans</td>\n",
              "      <td>M</td>\n",
              "      <td>N</td>\n",
              "      <td>Y</td>\n",
              "      <td>0</td>\n",
              "      <td>121500.0</td>\n",
              "      <td>513000.0</td>\n",
              "      <td>21865.5</td>\n",
              "      <td>...</td>\n",
              "      <td>0</td>\n",
              "      <td>0</td>\n",
              "      <td>0</td>\n",
              "      <td>0</td>\n",
              "      <td>0.0</td>\n",
              "      <td>0.0</td>\n",
              "      <td>0.0</td>\n",
              "      <td>0.0</td>\n",
              "      <td>0.0</td>\n",
              "      <td>0.0</td>\n",
              "    </tr>\n",
              "  </tbody>\n",
              "</table>\n",
              "<p>5 rows × 122 columns</p>\n",
              "</div>\n",
              "      <button class=\"colab-df-convert\" onclick=\"convertToInteractive('df-5603efda-16d5-4b8b-9315-33f450bf82a8')\"\n",
              "              title=\"Convert this dataframe to an interactive table.\"\n",
              "              style=\"display:none;\">\n",
              "        \n",
              "  <svg xmlns=\"http://www.w3.org/2000/svg\" height=\"24px\"viewBox=\"0 0 24 24\"\n",
              "       width=\"24px\">\n",
              "    <path d=\"M0 0h24v24H0V0z\" fill=\"none\"/>\n",
              "    <path d=\"M18.56 5.44l.94 2.06.94-2.06 2.06-.94-2.06-.94-.94-2.06-.94 2.06-2.06.94zm-11 1L8.5 8.5l.94-2.06 2.06-.94-2.06-.94L8.5 2.5l-.94 2.06-2.06.94zm10 10l.94 2.06.94-2.06 2.06-.94-2.06-.94-.94-2.06-.94 2.06-2.06.94z\"/><path d=\"M17.41 7.96l-1.37-1.37c-.4-.4-.92-.59-1.43-.59-.52 0-1.04.2-1.43.59L10.3 9.45l-7.72 7.72c-.78.78-.78 2.05 0 2.83L4 21.41c.39.39.9.59 1.41.59.51 0 1.02-.2 1.41-.59l7.78-7.78 2.81-2.81c.8-.78.8-2.07 0-2.86zM5.41 20L4 18.59l7.72-7.72 1.47 1.35L5.41 20z\"/>\n",
              "  </svg>\n",
              "      </button>\n",
              "      \n",
              "  <style>\n",
              "    .colab-df-container {\n",
              "      display:flex;\n",
              "      flex-wrap:wrap;\n",
              "      gap: 12px;\n",
              "    }\n",
              "\n",
              "    .colab-df-convert {\n",
              "      background-color: #E8F0FE;\n",
              "      border: none;\n",
              "      border-radius: 50%;\n",
              "      cursor: pointer;\n",
              "      display: none;\n",
              "      fill: #1967D2;\n",
              "      height: 32px;\n",
              "      padding: 0 0 0 0;\n",
              "      width: 32px;\n",
              "    }\n",
              "\n",
              "    .colab-df-convert:hover {\n",
              "      background-color: #E2EBFA;\n",
              "      box-shadow: 0px 1px 2px rgba(60, 64, 67, 0.3), 0px 1px 3px 1px rgba(60, 64, 67, 0.15);\n",
              "      fill: #174EA6;\n",
              "    }\n",
              "\n",
              "    [theme=dark] .colab-df-convert {\n",
              "      background-color: #3B4455;\n",
              "      fill: #D2E3FC;\n",
              "    }\n",
              "\n",
              "    [theme=dark] .colab-df-convert:hover {\n",
              "      background-color: #434B5C;\n",
              "      box-shadow: 0px 1px 3px 1px rgba(0, 0, 0, 0.15);\n",
              "      filter: drop-shadow(0px 1px 2px rgba(0, 0, 0, 0.3));\n",
              "      fill: #FFFFFF;\n",
              "    }\n",
              "  </style>\n",
              "\n",
              "      <script>\n",
              "        const buttonEl =\n",
              "          document.querySelector('#df-5603efda-16d5-4b8b-9315-33f450bf82a8 button.colab-df-convert');\n",
              "        buttonEl.style.display =\n",
              "          google.colab.kernel.accessAllowed ? 'block' : 'none';\n",
              "\n",
              "        async function convertToInteractive(key) {\n",
              "          const element = document.querySelector('#df-5603efda-16d5-4b8b-9315-33f450bf82a8');\n",
              "          const dataTable =\n",
              "            await google.colab.kernel.invokeFunction('convertToInteractive',\n",
              "                                                     [key], {});\n",
              "          if (!dataTable) return;\n",
              "\n",
              "          const docLinkHtml = 'Like what you see? Visit the ' +\n",
              "            '<a target=\"_blank\" href=https://colab.research.google.com/notebooks/data_table.ipynb>data table notebook</a>'\n",
              "            + ' to learn more about interactive tables.';\n",
              "          element.innerHTML = '';\n",
              "          dataTable['output_type'] = 'display_data';\n",
              "          await google.colab.output.renderOutput(dataTable, element);\n",
              "          const docLink = document.createElement('div');\n",
              "          docLink.innerHTML = docLinkHtml;\n",
              "          element.appendChild(docLink);\n",
              "        }\n",
              "      </script>\n",
              "    </div>\n",
              "  </div>\n",
              "  "
            ],
            "text/plain": [
              "   SK_ID_CURR  TARGET NAME_CONTRACT_TYPE CODE_GENDER FLAG_OWN_CAR  \\\n",
              "0      100002       1         Cash loans           M            N   \n",
              "1      100003       0         Cash loans           F            N   \n",
              "2      100004       0    Revolving loans           M            Y   \n",
              "3      100006       0         Cash loans           F            N   \n",
              "4      100007       0         Cash loans           M            N   \n",
              "\n",
              "  FLAG_OWN_REALTY  CNT_CHILDREN  AMT_INCOME_TOTAL  AMT_CREDIT  AMT_ANNUITY  \\\n",
              "0               Y             0          202500.0    406597.5      24700.5   \n",
              "1               N             0          270000.0   1293502.5      35698.5   \n",
              "2               Y             0           67500.0    135000.0       6750.0   \n",
              "3               Y             0          135000.0    312682.5      29686.5   \n",
              "4               Y             0          121500.0    513000.0      21865.5   \n",
              "\n",
              "   ...  FLAG_DOCUMENT_18 FLAG_DOCUMENT_19 FLAG_DOCUMENT_20 FLAG_DOCUMENT_21  \\\n",
              "0  ...                 0                0                0                0   \n",
              "1  ...                 0                0                0                0   \n",
              "2  ...                 0                0                0                0   \n",
              "3  ...                 0                0                0                0   \n",
              "4  ...                 0                0                0                0   \n",
              "\n",
              "  AMT_REQ_CREDIT_BUREAU_HOUR AMT_REQ_CREDIT_BUREAU_DAY  \\\n",
              "0                        0.0                       0.0   \n",
              "1                        0.0                       0.0   \n",
              "2                        0.0                       0.0   \n",
              "3                        NaN                       NaN   \n",
              "4                        0.0                       0.0   \n",
              "\n",
              "   AMT_REQ_CREDIT_BUREAU_WEEK  AMT_REQ_CREDIT_BUREAU_MON  \\\n",
              "0                         0.0                        0.0   \n",
              "1                         0.0                        0.0   \n",
              "2                         0.0                        0.0   \n",
              "3                         NaN                        NaN   \n",
              "4                         0.0                        0.0   \n",
              "\n",
              "   AMT_REQ_CREDIT_BUREAU_QRT  AMT_REQ_CREDIT_BUREAU_YEAR  \n",
              "0                        0.0                         1.0  \n",
              "1                        0.0                         0.0  \n",
              "2                        0.0                         0.0  \n",
              "3                        NaN                         NaN  \n",
              "4                        0.0                         0.0  \n",
              "\n",
              "[5 rows x 122 columns]"
            ]
          },
          "execution_count": 7,
          "metadata": {},
          "output_type": "execute_result"
        }
      ],
      "source": [
        "#let see the datframe using pandas\n",
        "pd_dataframe = df.toPandas()\n",
        "pd_dataframe.head()"
      ]
    },
    {
      "cell_type": "code",
      "execution_count": null,
      "metadata": {
        "colab": {
          "base_uri": "https://localhost:8080/"
        },
        "id": "xLYymMUS89wy",
        "outputId": "5f126f62-048f-40e9-cdb6-6a759cbb09e7"
      },
      "outputs": [
        {
          "name": "stdout",
          "output_type": "stream",
          "text": [
            "106 numerical columns\n",
            "16 categorical columns\n"
          ]
        }
      ],
      "source": [
        "#segerating the  numeric and categorical column\n",
        "def segerate(df):\n",
        "    num_col = []\n",
        "    cat_col = []\n",
        "    num_dtype = ['int','double']\n",
        "    for cols in df.dtypes:\n",
        "        if cols[1] in num_dtype:\n",
        "            num_col.append(cols[0])\n",
        "        else:\n",
        "            cat_col.append(cols[0])\n",
        "    return cat_col, num_col\n",
        "\n",
        "cat_col, num_col = segerate(df)\n",
        "print(str(len(num_col))+\" numerical columns\")\n",
        "print(str(len(cat_col))+\" categorical columns\")\n",
        "    \n"
      ]
    },
    {
      "cell_type": "code",
      "execution_count": null,
      "metadata": {
        "colab": {
          "base_uri": "https://localhost:8080/"
        },
        "id": "QQ8SskDa89w1",
        "outputId": "4e772e24-7ee3-4c63-e9b5-fc65b3bf0314"
      },
      "outputs": [
        {
          "name": "stdout",
          "output_type": "stream",
          "text": [
            "[['AMT_ANNUITY', 12], ['AMT_GOODS_PRICE', 278], ['NAME_TYPE_SUITE', 1292], ['OWN_CAR_AGE', 202929], ['OCCUPATION_TYPE', 96391], ['CNT_FAM_MEMBERS', 2], ['EXT_SOURCE_1', 173378], ['EXT_SOURCE_2', 660], ['EXT_SOURCE_3', 60965], ['APARTMENTS_AVG', 156061], ['BASEMENTAREA_AVG', 179943], ['YEARS_BEGINEXPLUATATION_AVG', 150007], ['YEARS_BUILD_AVG', 204488], ['COMMONAREA_AVG', 214865], ['ELEVATORS_AVG', 163891], ['ENTRANCES_AVG', 154828], ['FLOORSMAX_AVG', 153020], ['FLOORSMIN_AVG', 208642], ['LANDAREA_AVG', 182590], ['LIVINGAPARTMENTS_AVG', 210199], ['LIVINGAREA_AVG', 154350], ['NONLIVINGAPARTMENTS_AVG', 213514], ['NONLIVINGAREA_AVG', 169682], ['APARTMENTS_MODE', 156061], ['BASEMENTAREA_MODE', 179943], ['YEARS_BEGINEXPLUATATION_MODE', 150007], ['YEARS_BUILD_MODE', 204488], ['COMMONAREA_MODE', 214865], ['ELEVATORS_MODE', 163891], ['ENTRANCES_MODE', 154828], ['FLOORSMAX_MODE', 153020], ['FLOORSMIN_MODE', 208642], ['LANDAREA_MODE', 182590], ['LIVINGAPARTMENTS_MODE', 210199], ['LIVINGAREA_MODE', 154350], ['NONLIVINGAPARTMENTS_MODE', 213514], ['NONLIVINGAREA_MODE', 169682], ['APARTMENTS_MEDI', 156061], ['BASEMENTAREA_MEDI', 179943], ['YEARS_BEGINEXPLUATATION_MEDI', 150007], ['YEARS_BUILD_MEDI', 204488], ['COMMONAREA_MEDI', 214865], ['ELEVATORS_MEDI', 163891], ['ENTRANCES_MEDI', 154828], ['FLOORSMAX_MEDI', 153020], ['FLOORSMIN_MEDI', 208642], ['LANDAREA_MEDI', 182590], ['LIVINGAPARTMENTS_MEDI', 210199], ['LIVINGAREA_MEDI', 154350], ['NONLIVINGAPARTMENTS_MEDI', 213514], ['NONLIVINGAREA_MEDI', 169682], ['FONDKAPREMONT_MODE', 210295], ['HOUSETYPE_MODE', 154297], ['TOTALAREA_MODE', 148431], ['WALLSMATERIAL_MODE', 156341], ['EMERGENCYSTATE_MODE', 145755], ['OBS_30_CNT_SOCIAL_CIRCLE', 1021], ['DEF_30_CNT_SOCIAL_CIRCLE', 1021], ['OBS_60_CNT_SOCIAL_CIRCLE', 1021], ['DEF_60_CNT_SOCIAL_CIRCLE', 1021], ['DAYS_LAST_PHONE_CHANGE', 1], ['AMT_REQ_CREDIT_BUREAU_HOUR', 41519], ['AMT_REQ_CREDIT_BUREAU_DAY', 41519], ['AMT_REQ_CREDIT_BUREAU_WEEK', 41519], ['AMT_REQ_CREDIT_BUREAU_MON', 41519], ['AMT_REQ_CREDIT_BUREAU_QRT', 41519], ['AMT_REQ_CREDIT_BUREAU_YEAR', 41519]]\n"
          ]
        }
      ],
      "source": [
        "#Findout the missing values \n",
        "# def missing_val(df,cat_col,num_col):\n",
        "def check_na(df):\n",
        "  na_list = []\n",
        "  for i in df.columns:\n",
        "    val = df.filter(df[i].isNull()).count()\n",
        "    if val!=0:\n",
        "      na_list.append([i,val])\n",
        "  return na_list\n",
        "    \n",
        "missing_values = check_na(df)\n",
        "print(missing_values)\n"
      ]
    },
    {
      "cell_type": "code",
      "execution_count": null,
      "metadata": {
        "colab": {
          "base_uri": "https://localhost:8080/",
          "height": 206
        },
        "id": "GFHb-4vB89w2",
        "outputId": "341c4b8f-688c-46d7-d7c3-1e095687fbd4"
      },
      "outputs": [
        {
          "data": {
            "text/html": [
              "\n",
              "  <div id=\"df-af2d0790-8fe0-47e7-af6e-0d369635412f\">\n",
              "    <div class=\"colab-df-container\">\n",
              "      <div>\n",
              "<style scoped>\n",
              "    .dataframe tbody tr th:only-of-type {\n",
              "        vertical-align: middle;\n",
              "    }\n",
              "\n",
              "    .dataframe tbody tr th {\n",
              "        vertical-align: top;\n",
              "    }\n",
              "\n",
              "    .dataframe thead th {\n",
              "        text-align: right;\n",
              "    }\n",
              "</style>\n",
              "<table border=\"1\" class=\"dataframe\">\n",
              "  <thead>\n",
              "    <tr style=\"text-align: right;\">\n",
              "      <th></th>\n",
              "      <th>Name</th>\n",
              "      <th>Value</th>\n",
              "    </tr>\n",
              "  </thead>\n",
              "  <tbody>\n",
              "    <tr>\n",
              "      <th>62</th>\n",
              "      <td>AMT_REQ_CREDIT_BUREAU_DAY</td>\n",
              "      <td>41519</td>\n",
              "    </tr>\n",
              "    <tr>\n",
              "      <th>63</th>\n",
              "      <td>AMT_REQ_CREDIT_BUREAU_WEEK</td>\n",
              "      <td>41519</td>\n",
              "    </tr>\n",
              "    <tr>\n",
              "      <th>64</th>\n",
              "      <td>AMT_REQ_CREDIT_BUREAU_MON</td>\n",
              "      <td>41519</td>\n",
              "    </tr>\n",
              "    <tr>\n",
              "      <th>65</th>\n",
              "      <td>AMT_REQ_CREDIT_BUREAU_QRT</td>\n",
              "      <td>41519</td>\n",
              "    </tr>\n",
              "    <tr>\n",
              "      <th>66</th>\n",
              "      <td>AMT_REQ_CREDIT_BUREAU_YEAR</td>\n",
              "      <td>41519</td>\n",
              "    </tr>\n",
              "  </tbody>\n",
              "</table>\n",
              "</div>\n",
              "      <button class=\"colab-df-convert\" onclick=\"convertToInteractive('df-af2d0790-8fe0-47e7-af6e-0d369635412f')\"\n",
              "              title=\"Convert this dataframe to an interactive table.\"\n",
              "              style=\"display:none;\">\n",
              "        \n",
              "  <svg xmlns=\"http://www.w3.org/2000/svg\" height=\"24px\"viewBox=\"0 0 24 24\"\n",
              "       width=\"24px\">\n",
              "    <path d=\"M0 0h24v24H0V0z\" fill=\"none\"/>\n",
              "    <path d=\"M18.56 5.44l.94 2.06.94-2.06 2.06-.94-2.06-.94-.94-2.06-.94 2.06-2.06.94zm-11 1L8.5 8.5l.94-2.06 2.06-.94-2.06-.94L8.5 2.5l-.94 2.06-2.06.94zm10 10l.94 2.06.94-2.06 2.06-.94-2.06-.94-.94-2.06-.94 2.06-2.06.94z\"/><path d=\"M17.41 7.96l-1.37-1.37c-.4-.4-.92-.59-1.43-.59-.52 0-1.04.2-1.43.59L10.3 9.45l-7.72 7.72c-.78.78-.78 2.05 0 2.83L4 21.41c.39.39.9.59 1.41.59.51 0 1.02-.2 1.41-.59l7.78-7.78 2.81-2.81c.8-.78.8-2.07 0-2.86zM5.41 20L4 18.59l7.72-7.72 1.47 1.35L5.41 20z\"/>\n",
              "  </svg>\n",
              "      </button>\n",
              "      \n",
              "  <style>\n",
              "    .colab-df-container {\n",
              "      display:flex;\n",
              "      flex-wrap:wrap;\n",
              "      gap: 12px;\n",
              "    }\n",
              "\n",
              "    .colab-df-convert {\n",
              "      background-color: #E8F0FE;\n",
              "      border: none;\n",
              "      border-radius: 50%;\n",
              "      cursor: pointer;\n",
              "      display: none;\n",
              "      fill: #1967D2;\n",
              "      height: 32px;\n",
              "      padding: 0 0 0 0;\n",
              "      width: 32px;\n",
              "    }\n",
              "\n",
              "    .colab-df-convert:hover {\n",
              "      background-color: #E2EBFA;\n",
              "      box-shadow: 0px 1px 2px rgba(60, 64, 67, 0.3), 0px 1px 3px 1px rgba(60, 64, 67, 0.15);\n",
              "      fill: #174EA6;\n",
              "    }\n",
              "\n",
              "    [theme=dark] .colab-df-convert {\n",
              "      background-color: #3B4455;\n",
              "      fill: #D2E3FC;\n",
              "    }\n",
              "\n",
              "    [theme=dark] .colab-df-convert:hover {\n",
              "      background-color: #434B5C;\n",
              "      box-shadow: 0px 1px 3px 1px rgba(0, 0, 0, 0.15);\n",
              "      filter: drop-shadow(0px 1px 2px rgba(0, 0, 0, 0.3));\n",
              "      fill: #FFFFFF;\n",
              "    }\n",
              "  </style>\n",
              "\n",
              "      <script>\n",
              "        const buttonEl =\n",
              "          document.querySelector('#df-af2d0790-8fe0-47e7-af6e-0d369635412f button.colab-df-convert');\n",
              "        buttonEl.style.display =\n",
              "          google.colab.kernel.accessAllowed ? 'block' : 'none';\n",
              "\n",
              "        async function convertToInteractive(key) {\n",
              "          const element = document.querySelector('#df-af2d0790-8fe0-47e7-af6e-0d369635412f');\n",
              "          const dataTable =\n",
              "            await google.colab.kernel.invokeFunction('convertToInteractive',\n",
              "                                                     [key], {});\n",
              "          if (!dataTable) return;\n",
              "\n",
              "          const docLinkHtml = 'Like what you see? Visit the ' +\n",
              "            '<a target=\"_blank\" href=https://colab.research.google.com/notebooks/data_table.ipynb>data table notebook</a>'\n",
              "            + ' to learn more about interactive tables.';\n",
              "          element.innerHTML = '';\n",
              "          dataTable['output_type'] = 'display_data';\n",
              "          await google.colab.output.renderOutput(dataTable, element);\n",
              "          const docLink = document.createElement('div');\n",
              "          docLink.innerHTML = docLinkHtml;\n",
              "          element.appendChild(docLink);\n",
              "        }\n",
              "      </script>\n",
              "    </div>\n",
              "  </div>\n",
              "  "
            ],
            "text/plain": [
              "                          Name  Value\n",
              "62   AMT_REQ_CREDIT_BUREAU_DAY  41519\n",
              "63  AMT_REQ_CREDIT_BUREAU_WEEK  41519\n",
              "64   AMT_REQ_CREDIT_BUREAU_MON  41519\n",
              "65   AMT_REQ_CREDIT_BUREAU_QRT  41519\n",
              "66  AMT_REQ_CREDIT_BUREAU_YEAR  41519"
            ]
          },
          "execution_count": 10,
          "metadata": {},
          "output_type": "execute_result"
        }
      ],
      "source": [
        "#creating the dataframen for the missing values\n",
        "miss_df = pd.DataFrame(missing_values,columns=[\"Name\",\"Value\"])\n",
        "miss_df.sort_values(by=[\"Value\"],ascending=False)\n",
        "miss_df.tail()"
      ]
    },
    {
      "cell_type": "code",
      "execution_count": null,
      "metadata": {
        "id": "0AX3K32989w4"
      },
      "outputs": [],
      "source": [
        "# #this is not working\n",
        "# columns = [\"name\",\"val\"]\n",
        "# miss_df = sc.createDataFrame(miss_val)\n",
        "# miss_df.show()"
      ]
    },
    {
      "cell_type": "code",
      "execution_count": null,
      "metadata": {
        "colab": {
          "base_uri": "https://localhost:8080/"
        },
        "id": "uhrii_r689w7",
        "outputId": "d8a6bb88-aee0-4f6a-aee9-1e4eb40c8743"
      },
      "outputs": [
        {
          "name": "stdout",
          "output_type": "stream",
          "text": [
            "dataframe shape before handling missing values (307511, 122)\n",
            "dataframe shape after handling missing values (8602, 122)\n"
          ]
        }
      ],
      "source": [
        "#handling the missing value\n",
        "print(\"dataframe shape before handling missing values\",(df.count(),len(df.columns)))\n",
        "\n",
        "#case1 drop the values from the dataframe\n",
        "df_droppall = df.na.drop()\n",
        "print(\"dataframe shape after handling missing values\",(df_droppall.count(),len(df_droppall.columns)))\n",
        "\n",
        "#so droping the column is not a good option\n"
      ]
    },
    {
      "cell_type": "code",
      "execution_count": null,
      "metadata": {
        "id": "qsWpodMBr2uf"
      },
      "outputs": [],
      "source": [
        "#not working\n",
        "\n",
        "# import numpy as np\n",
        "# def find_median(val):\n",
        "#   try:\n",
        "#       median = np.median(pd_dataframe[[val]])\n",
        "#       return round(float(median),2)\n",
        "#   except Exception:\n",
        "#     return None\n",
        "\n",
        "# from pyspark.sql.types import FloatType\n",
        "# medianUDF = F.udf(find_median,FloatType())\n",
        "# df.withColumn(\"median\",medianUDF('SK_ID_CURR')).show()\n"
      ]
    },
    {
      "cell_type": "code",
      "execution_count": null,
      "metadata": {
        "id": "8rfezz_9jg7e"
      },
      "outputs": [],
      "source": []
    },
    {
      "cell_type": "code",
      "execution_count": null,
      "metadata": {
        "id": "nHBHMLtrs7Dm"
      },
      "outputs": [],
      "source": [
        "#this method for handling the missing value is not working\n",
        "# def dict_creator(num_col):\n",
        "#   means = {}\n",
        "#   for i in num_col:\n",
        "#     means[i]= df.select(mean(i)).collect()\n",
        "#   for i in means.keys():\n",
        "#     val = str(means[i][0])\n",
        "#     means[i] = float(val.split(\"=\")[1].replace(\")\",\"\"))\n",
        "#   return means\n",
        "\n",
        "# means = dict_creator(num_col)\n",
        "# print(means)\n",
        "\n",
        "\n",
        "\n",
        "# def find_median(num_col):\n",
        "#   medians = {}\n",
        "#   for i in num_col:\n",
        "#     medians[i] = pd_dataframe[i].median()\n",
        "#   return medians \n",
        "\n",
        "# medians = find_median(num_col)\n",
        "# print(medians)\n",
        "\n",
        "\n",
        "\n",
        "# def percent_diff(threshold,means,medians):\n",
        "#   final_val = {}\n",
        "#   for i in means.keys():\n",
        "#     val1 = means[i]\n",
        "#     val2 = medians[i]\n",
        "#     if val2!=0:\n",
        "#       ratio = abs(val2-val1)/val2\n",
        "#     if ratio<threshold :\n",
        "#       final_val[i] = val1\n",
        "#     else:\n",
        "#       final_val[i] = val2\n",
        "#   return final_val\n",
        "\n",
        "# final_val = percent_diff(0.5,means,medians)\n",
        "# for i in num_col:\n",
        "#   df.na.fill(final_val[i],i)\n",
        "# df.show()"
      ]
    },
    {
      "cell_type": "code",
      "execution_count": null,
      "metadata": {
        "id": "o9gkxrPlklPo"
      },
      "outputs": [],
      "source": []
    },
    {
      "cell_type": "code",
      "execution_count": null,
      "metadata": {
        "colab": {
          "base_uri": "https://localhost:8080/"
        },
        "id": "eoXJO7La0_Aq",
        "outputId": "ac8b69ac-5aba-4759-a311-5d762c99290b"
      },
      "outputs": [
        {
          "name": "stdout",
          "output_type": "stream",
          "text": [
            "the shape of dataframe after imputation (307511, 228)\n"
          ]
        }
      ],
      "source": [
        "#let try to remove the null values using Impute function\n",
        "#first remove the null values for the numeric data\n",
        "from pyspark.ml.feature import Imputer\n",
        "def num_na_remove(df):\n",
        "  imputer = Imputer(inputCols = num_col,\n",
        "                    outputCols = [\"{}_imputed\".format(a) for a in num_col]).setStrategy(\"mean\")\n",
        "  df_num = imputer.fit(df).transform(df)\n",
        "  return df_num\n",
        "\n",
        "df_num = num_na_remove(df)\n",
        "print(\"the shape of dataframe after imputation\", (df_num.count(),len(df_num.columns)))"
      ]
    },
    {
      "cell_type": "code",
      "execution_count": null,
      "metadata": {
        "colab": {
          "base_uri": "https://localhost:8080/"
        },
        "id": "9ZnrmSYg56vI",
        "outputId": "e08abf1b-8468-401f-b8a4-9ae4c4b0501e"
      },
      "outputs": [
        {
          "name": "stdout",
          "output_type": "stream",
          "text": [
            "+------------------+-----------+------------+---------------+---------------+--------------------+--------------------+--------------------+-----------------+---------------+--------------------------+--------------------+------------------+--------------+------------------+-------------------+------------------+--------------+--------------------+------------------------+------------------+-------------------+-----------------------+----------------------------------+------------------+---------------------+-------------------------+-----------------------+-------------------+------------------+----------------------+-----------------------+------------------------+------------------+------------------+-----------------------+----------------------------+-----------------------------------+-------------------------------+----------------------------------+----------------------------------+-----------------------------------+------------------------------+------------------------------+-------------------------------+--------------------+--------------------+--------------------+----------------------+------------------------+-----------------------------------+-----------------------+----------------------+---------------------+---------------------+---------------------+---------------------+--------------------+----------------------------+----------------------+-------------------------------+-------------------------+-----------------------+-------------------------+------------------------------------+------------------------+-----------------------+----------------------+----------------------+----------------------+----------------------+---------------------+-----------------------------+-----------------------+--------------------------------+--------------------------+-----------------------+-------------------------+------------------------------------+------------------------+-----------------------+----------------------+----------------------+----------------------+----------------------+---------------------+-----------------------------+-----------------------+--------------------------------+--------------------------+----------------------+--------------------------------+--------------------------------+--------------------------------+--------------------------------+------------------------------+-----------------------+-----------------------+-----------------------+-----------------------+-----------------------+-----------------------+-----------------------+-----------------------+------------------------+------------------------+------------------------+------------------------+------------------------+------------------------+------------------------+------------------------+------------------------+------------------------+------------------------+------------------------+----------------------------------+---------------------------------+----------------------------------+---------------------------------+---------------------------------+----------------------------------+\n",
            "|NAME_CONTRACT_TYPE|CODE_GENDER|FLAG_OWN_CAR|FLAG_OWN_REALTY|NAME_TYPE_SUITE|    NAME_INCOME_TYPE| NAME_EDUCATION_TYPE|  NAME_FAMILY_STATUS|NAME_HOUSING_TYPE|OCCUPATION_TYPE|WEEKDAY_APPR_PROCESS_START|   ORGANIZATION_TYPE|FONDKAPREMONT_MODE|HOUSETYPE_MODE|WALLSMATERIAL_MODE|EMERGENCYSTATE_MODE|SK_ID_CURR_imputed|TARGET_imputed|CNT_CHILDREN_imputed|AMT_INCOME_TOTAL_imputed|AMT_CREDIT_imputed|AMT_ANNUITY_imputed|AMT_GOODS_PRICE_imputed|REGION_POPULATION_RELATIVE_imputed|DAYS_BIRTH_imputed|DAYS_EMPLOYED_imputed|DAYS_REGISTRATION_imputed|DAYS_ID_PUBLISH_imputed|OWN_CAR_AGE_imputed|FLAG_MOBIL_imputed|FLAG_EMP_PHONE_imputed|FLAG_WORK_PHONE_imputed|FLAG_CONT_MOBILE_imputed|FLAG_PHONE_imputed|FLAG_EMAIL_imputed|CNT_FAM_MEMBERS_imputed|REGION_RATING_CLIENT_imputed|REGION_RATING_CLIENT_W_CITY_imputed|HOUR_APPR_PROCESS_START_imputed|REG_REGION_NOT_LIVE_REGION_imputed|REG_REGION_NOT_WORK_REGION_imputed|LIVE_REGION_NOT_WORK_REGION_imputed|REG_CITY_NOT_LIVE_CITY_imputed|REG_CITY_NOT_WORK_CITY_imputed|LIVE_CITY_NOT_WORK_CITY_imputed|EXT_SOURCE_1_imputed|EXT_SOURCE_2_imputed|EXT_SOURCE_3_imputed|APARTMENTS_AVG_imputed|BASEMENTAREA_AVG_imputed|YEARS_BEGINEXPLUATATION_AVG_imputed|YEARS_BUILD_AVG_imputed|COMMONAREA_AVG_imputed|ELEVATORS_AVG_imputed|ENTRANCES_AVG_imputed|FLOORSMAX_AVG_imputed|FLOORSMIN_AVG_imputed|LANDAREA_AVG_imputed|LIVINGAPARTMENTS_AVG_imputed|LIVINGAREA_AVG_imputed|NONLIVINGAPARTMENTS_AVG_imputed|NONLIVINGAREA_AVG_imputed|APARTMENTS_MODE_imputed|BASEMENTAREA_MODE_imputed|YEARS_BEGINEXPLUATATION_MODE_imputed|YEARS_BUILD_MODE_imputed|COMMONAREA_MODE_imputed|ELEVATORS_MODE_imputed|ENTRANCES_MODE_imputed|FLOORSMAX_MODE_imputed|FLOORSMIN_MODE_imputed|LANDAREA_MODE_imputed|LIVINGAPARTMENTS_MODE_imputed|LIVINGAREA_MODE_imputed|NONLIVINGAPARTMENTS_MODE_imputed|NONLIVINGAREA_MODE_imputed|APARTMENTS_MEDI_imputed|BASEMENTAREA_MEDI_imputed|YEARS_BEGINEXPLUATATION_MEDI_imputed|YEARS_BUILD_MEDI_imputed|COMMONAREA_MEDI_imputed|ELEVATORS_MEDI_imputed|ENTRANCES_MEDI_imputed|FLOORSMAX_MEDI_imputed|FLOORSMIN_MEDI_imputed|LANDAREA_MEDI_imputed|LIVINGAPARTMENTS_MEDI_imputed|LIVINGAREA_MEDI_imputed|NONLIVINGAPARTMENTS_MEDI_imputed|NONLIVINGAREA_MEDI_imputed|TOTALAREA_MODE_imputed|OBS_30_CNT_SOCIAL_CIRCLE_imputed|DEF_30_CNT_SOCIAL_CIRCLE_imputed|OBS_60_CNT_SOCIAL_CIRCLE_imputed|DEF_60_CNT_SOCIAL_CIRCLE_imputed|DAYS_LAST_PHONE_CHANGE_imputed|FLAG_DOCUMENT_2_imputed|FLAG_DOCUMENT_3_imputed|FLAG_DOCUMENT_4_imputed|FLAG_DOCUMENT_5_imputed|FLAG_DOCUMENT_6_imputed|FLAG_DOCUMENT_7_imputed|FLAG_DOCUMENT_8_imputed|FLAG_DOCUMENT_9_imputed|FLAG_DOCUMENT_10_imputed|FLAG_DOCUMENT_11_imputed|FLAG_DOCUMENT_12_imputed|FLAG_DOCUMENT_13_imputed|FLAG_DOCUMENT_14_imputed|FLAG_DOCUMENT_15_imputed|FLAG_DOCUMENT_16_imputed|FLAG_DOCUMENT_17_imputed|FLAG_DOCUMENT_18_imputed|FLAG_DOCUMENT_19_imputed|FLAG_DOCUMENT_20_imputed|FLAG_DOCUMENT_21_imputed|AMT_REQ_CREDIT_BUREAU_HOUR_imputed|AMT_REQ_CREDIT_BUREAU_DAY_imputed|AMT_REQ_CREDIT_BUREAU_WEEK_imputed|AMT_REQ_CREDIT_BUREAU_MON_imputed|AMT_REQ_CREDIT_BUREAU_QRT_imputed|AMT_REQ_CREDIT_BUREAU_YEAR_imputed|\n",
            "+------------------+-----------+------------+---------------+---------------+--------------------+--------------------+--------------------+-----------------+---------------+--------------------------+--------------------+------------------+--------------+------------------+-------------------+------------------+--------------+--------------------+------------------------+------------------+-------------------+-----------------------+----------------------------------+------------------+---------------------+-------------------------+-----------------------+-------------------+------------------+----------------------+-----------------------+------------------------+------------------+------------------+-----------------------+----------------------------+-----------------------------------+-------------------------------+----------------------------------+----------------------------------+-----------------------------------+------------------------------+------------------------------+-------------------------------+--------------------+--------------------+--------------------+----------------------+------------------------+-----------------------------------+-----------------------+----------------------+---------------------+---------------------+---------------------+---------------------+--------------------+----------------------------+----------------------+-------------------------------+-------------------------+-----------------------+-------------------------+------------------------------------+------------------------+-----------------------+----------------------+----------------------+----------------------+----------------------+---------------------+-----------------------------+-----------------------+--------------------------------+--------------------------+-----------------------+-------------------------+------------------------------------+------------------------+-----------------------+----------------------+----------------------+----------------------+----------------------+---------------------+-----------------------------+-----------------------+--------------------------------+--------------------------+----------------------+--------------------------------+--------------------------------+--------------------------------+--------------------------------+------------------------------+-----------------------+-----------------------+-----------------------+-----------------------+-----------------------+-----------------------+-----------------------+-----------------------+------------------------+------------------------+------------------------+------------------------+------------------------+------------------------+------------------------+------------------------+------------------------+------------------------+------------------------+------------------------+----------------------------------+---------------------------------+----------------------------------+---------------------------------+---------------------------------+----------------------------------+\n",
            "|        Cash loans|          M|           N|              Y|  Unaccompanied|             Working|Secondary / secon...|Single / not married|House / apartment|       Laborers|                 WEDNESDAY|Business Entity T...|  reg oper account|block of flats|      Stone, brick|                 No|            100002|             1|                   0|                202500.0|          406597.5|            24700.5|               351000.0|                          0.018801|             -9461|                 -637|                  -3648.0|                  -2120| 12.061090818687727|                 1|                     1|                      0|                       1|                 1|                 0|                    1.0|                           2|                                  2|                             10|                                 0|                                 0|                                  0|                             0|                             0|                              0| 0.08303696739132256|  0.2629485927471776| 0.13937578009978951|                0.0247|                  0.0369|                             0.9722|                 0.6192|                0.0143|                  0.0|                0.069|               0.0833|                0.125|              0.0369|                      0.0202|                 0.019|                            0.0|                      0.0|                 0.0252|                   0.0383|                              0.9722|                  0.6341|                 0.0144|                   0.0|                 0.069|                0.0833|                 0.125|               0.0377|                        0.022|                 0.0198|                             0.0|                       0.0|                  0.025|                   0.0369|                              0.9722|                  0.6243|                 0.0144|                   0.0|                 0.069|                0.0833|                 0.125|               0.0375|                       0.0205|                 0.0193|                             0.0|                       0.0|                0.0149|                             2.0|                             2.0|                             2.0|                             2.0|                       -1134.0|                      0|                      1|                      0|                      0|                      0|                      0|                      0|                      0|                       0|                       0|                       0|                       0|                       0|                       0|                       0|                       0|                       0|                       0|                       0|                       0|                               0.0|                              0.0|                               0.0|                              0.0|                              0.0|                               1.0|\n",
            "|        Cash loans|          F|           N|              N|         Family|       State servant|    Higher education|             Married|House / apartment|     Core staff|                    MONDAY|              School|  reg oper account|block of flats|             Block|                 No|            100003|             0|                   0|                270000.0|         1293502.5|            35698.5|              1129500.0|              0.003540999999999999|            -16765|                -1188|                  -1186.0|                   -291| 12.061090818687727|                 1|                     1|                      0|                       1|                 1|                 0|                    2.0|                           1|                                  1|                             11|                                 0|                                 0|                                  0|                             0|                             0|                              0|  0.3112673113812225|  0.6222457752555098|  0.5108529061799263|                0.0959|                  0.0529|                             0.9851|     0.7959999999999999|                0.0605|                 0.08|               0.0345|               0.2917|               0.3333|               0.013|                      0.0773|                0.0549|                         0.0039|                   0.0098|                 0.0924|                   0.0538|                              0.9851|                   0.804|                 0.0497|                0.0806|                0.0345|                0.2917|                0.3333|               0.0128|                        0.079|                 0.0554|                             0.0|                       0.0|                 0.0968|                   0.0529|                              0.9851|                  0.7987|                 0.0608|                  0.08|                0.0345|                0.2917|                0.3333|               0.0132|                       0.0787|                 0.0558|                          0.0039|                      0.01|                0.0714|                             1.0|                             0.0|                             1.0|                             0.0|                        -828.0|                      0|                      1|                      0|                      0|                      0|                      0|                      0|                      0|                       0|                       0|                       0|                       0|                       0|                       0|                       0|                       0|                       0|                       0|                       0|                       0|                               0.0|                              0.0|                               0.0|                              0.0|                              0.0|                               0.0|\n",
            "|   Revolving loans|          M|           Y|              Y|  Unaccompanied|             Working|Secondary / secon...|Single / not married|House / apartment|       Laborers|                    MONDAY|          Government|              null|          null|              null|               null|            100004|             0|                   0|                 67500.0|          135000.0|             6750.0|               135000.0|                          0.010032|            -19046|                 -225|                  -4260.0|                  -2531|               26.0|                 1|                     1|                      1|                       1|                 1|                 0|                    1.0|                           2|                                  2|                              9|                                 0|                                 0|                                  0|                             0|                             0|                              0|  0.5021298056566661|  0.5559120833904428|  0.7295666907060153|   0.11744049917464643|     0.08844221905180051|                 0.9777348581622161|     0.7524714325927284|     0.044620715411351|  0.07894151232416623|   0.1497246700679834|  0.22628190703664716|  0.23189350049056454| 0.06633318417239706|         0.10077477495067376|    0.1073990193325995|           0.008808672617209091|     0.028357757075796745|    0.11423100693299629|      0.08754321224758496|                  0.9770653729428661|      0.7596373227337418|    0.04255313775014629|   0.07448973610916797|   0.14519265864562494|   0.22231504747847514|   0.22805849255076463|  0.06495768445657653|          0.10564485674943506|    0.10597505043712185|            0.008076387544281912|       0.02702231968598766|    0.11784992076593205|      0.08795485466574765|                  0.9777522640693693|      0.7557462721916715|     0.0445951017852909|    0.0780778443113532|   0.14921278072862998|   0.22589659009261476|    0.2316249380493541|  0.06716874904939972|          0.10195447324073269|    0.10860673604899568|            0.008651013330210322|      0.028235920597262158|    0.1025466626854412|                             0.0|                             0.0|                             0.0|                             0.0|                        -815.0|                      0|                      0|                      0|                      0|                      0|                      0|                      0|                      0|                       0|                       0|                       0|                       0|                       0|                       0|                       0|                       0|                       0|                       0|                       0|                       0|                               0.0|                              0.0|                               0.0|                              0.0|                              0.0|                               0.0|\n",
            "|        Cash loans|          F|           N|              Y|  Unaccompanied|             Working|Secondary / secon...|      Civil marriage|House / apartment|       Laborers|                 WEDNESDAY|Business Entity T...|              null|          null|              null|               null|            100006|             0|                   0|                135000.0|          312682.5|            29686.5|               297000.0|                          0.008019|            -19005|                -3039|                  -9833.0|                  -2437| 12.061090818687727|                 1|                     1|                      0|                       1|                 0|                 0|                    2.0|                           2|                                  2|                             17|                                 0|                                 0|                                  0|                             0|                             0|                              0|  0.5021298056566661|  0.6504416904014653|  0.5108529061799263|   0.11744049917464643|     0.08844221905180051|                 0.9777348581622161|     0.7524714325927284|     0.044620715411351|  0.07894151232416623|   0.1497246700679834|  0.22628190703664716|  0.23189350049056454| 0.06633318417239706|         0.10077477495067376|    0.1073990193325995|           0.008808672617209091|     0.028357757075796745|    0.11423100693299629|      0.08754321224758496|                  0.9770653729428661|      0.7596373227337418|    0.04255313775014629|   0.07448973610916797|   0.14519265864562494|   0.22231504747847514|   0.22805849255076463|  0.06495768445657653|          0.10564485674943506|    0.10597505043712185|            0.008076387544281912|       0.02702231968598766|    0.11784992076593205|      0.08795485466574765|                  0.9777522640693693|      0.7557462721916715|     0.0445951017852909|    0.0780778443113532|   0.14921278072862998|   0.22589659009261476|    0.2316249380493541|  0.06716874904939972|          0.10195447324073269|    0.10860673604899568|            0.008651013330210322|      0.028235920597262158|    0.1025466626854412|                             2.0|                             0.0|                             2.0|                             0.0|                        -617.0|                      0|                      1|                      0|                      0|                      0|                      0|                      0|                      0|                       0|                       0|                       0|                       0|                       0|                       0|                       0|                       0|                       0|                       0|                       0|                       0|              0.006402448193930645|             0.007000210532647...|                0.0343619356973142|              0.26739526000781977|              0.26547414959848414|                 1.899974435321363|\n",
            "|        Cash loans|          M|           N|              Y|  Unaccompanied|             Working|Secondary / secon...|Single / not married|House / apartment|     Core staff|                  THURSDAY|            Religion|              null|          null|              null|               null|            100007|             0|                   0|                121500.0|          513000.0|            21865.5|               513000.0|                          0.028663|            -19932|                -3038|                  -4311.0|                  -3458| 12.061090818687727|                 1|                     1|                      0|                       1|                 0|                 0|                    1.0|                           2|                                  2|                             11|                                 0|                                 0|                                  0|                             0|                             1|                              1|  0.5021298056566661|  0.3227382869704046|  0.5108529061799263|   0.11744049917464643|     0.08844221905180051|                 0.9777348581622161|     0.7524714325927284|     0.044620715411351|  0.07894151232416623|   0.1497246700679834|  0.22628190703664716|  0.23189350049056454| 0.06633318417239706|         0.10077477495067376|    0.1073990193325995|           0.008808672617209091|     0.028357757075796745|    0.11423100693299629|      0.08754321224758496|                  0.9770653729428661|      0.7596373227337418|    0.04255313775014629|   0.07448973610916797|   0.14519265864562494|   0.22231504747847514|   0.22805849255076463|  0.06495768445657653|          0.10564485674943506|    0.10597505043712185|            0.008076387544281912|       0.02702231968598766|    0.11784992076593205|      0.08795485466574765|                  0.9777522640693693|      0.7557462721916715|     0.0445951017852909|    0.0780778443113532|   0.14921278072862998|   0.22589659009261476|    0.2316249380493541|  0.06716874904939972|          0.10195447324073269|    0.10860673604899568|            0.008651013330210322|      0.028235920597262158|    0.1025466626854412|                             0.0|                             0.0|                             0.0|                             0.0|                       -1106.0|                      0|                      0|                      0|                      0|                      0|                      0|                      1|                      0|                       0|                       0|                       0|                       0|                       0|                       0|                       0|                       0|                       0|                       0|                       0|                       0|                               0.0|                              0.0|                               0.0|                              0.0|                              0.0|                               0.0|\n",
            "|        Cash loans|          M|           N|              Y|Spouse, partner|       State servant|Secondary / secon...|             Married|House / apartment|       Laborers|                 WEDNESDAY|               Other|              null|          null|              null|               null|            100008|             0|                   0|                 99000.0|          490495.5|            27517.5|               454500.0|              0.035792000000000004|            -16941|                -1588|                  -4970.0|                   -477| 12.061090818687727|                 1|                     1|                      1|                       1|                 1|                 0|                    2.0|                           2|                                  2|                             16|                                 0|                                 0|                                  0|                             0|                             0|                              0|  0.5021298056566661|  0.3542247319929012|  0.6212263380626669|   0.11744049917464643|     0.08844221905180051|                 0.9777348581622161|     0.7524714325927284|     0.044620715411351|  0.07894151232416623|   0.1497246700679834|  0.22628190703664716|  0.23189350049056454| 0.06633318417239706|         0.10077477495067376|    0.1073990193325995|           0.008808672617209091|     0.028357757075796745|    0.11423100693299629|      0.08754321224758496|                  0.9770653729428661|      0.7596373227337418|    0.04255313775014629|   0.07448973610916797|   0.14519265864562494|   0.22231504747847514|   0.22805849255076463|  0.06495768445657653|          0.10564485674943506|    0.10597505043712185|            0.008076387544281912|       0.02702231968598766|    0.11784992076593205|      0.08795485466574765|                  0.9777522640693693|      0.7557462721916715|     0.0445951017852909|    0.0780778443113532|   0.14921278072862998|   0.22589659009261476|    0.2316249380493541|  0.06716874904939972|          0.10195447324073269|    0.10860673604899568|            0.008651013330210322|      0.028235920597262158|    0.1025466626854412|                             0.0|                             0.0|                             0.0|                             0.0|                       -2536.0|                      0|                      1|                      0|                      0|                      0|                      0|                      0|                      0|                       0|                       0|                       0|                       0|                       0|                       0|                       0|                       0|                       0|                       0|                       0|                       0|                               0.0|                              0.0|                               0.0|                              0.0|                              1.0|                               1.0|\n",
            "|        Cash loans|          F|           Y|              Y|  Unaccompanied|Commercial associate|    Higher education|             Married|House / apartment|    Accountants|                    SUNDAY|Business Entity T...|              null|          null|              null|               null|            100009|             0|                   1|                171000.0|         1560726.0|            41301.0|              1395000.0|              0.035792000000000004|            -13778|                -3130|                  -1213.0|                   -619|               17.0|                 1|                     1|                      0|                       1|                 1|                 0|                    3.0|                           2|                                  2|                             16|                                 0|                                 0|                                  0|                             0|                             0|                              0|  0.7747614130547695|  0.7239998516953141|  0.4920600938649263|   0.11744049917464643|     0.08844221905180051|                 0.9777348581622161|     0.7524714325927284|     0.044620715411351|  0.07894151232416623|   0.1497246700679834|  0.22628190703664716|  0.23189350049056454| 0.06633318417239706|         0.10077477495067376|    0.1073990193325995|           0.008808672617209091|     0.028357757075796745|    0.11423100693299629|      0.08754321224758496|                  0.9770653729428661|      0.7596373227337418|    0.04255313775014629|   0.07448973610916797|   0.14519265864562494|   0.22231504747847514|   0.22805849255076463|  0.06495768445657653|          0.10564485674943506|    0.10597505043712185|            0.008076387544281912|       0.02702231968598766|    0.11784992076593205|      0.08795485466574765|                  0.9777522640693693|      0.7557462721916715|     0.0445951017852909|    0.0780778443113532|   0.14921278072862998|   0.22589659009261476|    0.2316249380493541|  0.06716874904939972|          0.10195447324073269|    0.10860673604899568|            0.008651013330210322|      0.028235920597262158|    0.1025466626854412|                             1.0|                             0.0|                             1.0|                             0.0|                       -1562.0|                      0|                      0|                      0|                      0|                      0|                      0|                      1|                      0|                       0|                       0|                       0|                       0|                       1|                       0|                       0|                       0|                       0|                       0|                       0|                       0|                               0.0|                              0.0|                               0.0|                              1.0|                              1.0|                               2.0|\n",
            "|        Cash loans|          M|           Y|              Y|  Unaccompanied|       State servant|    Higher education|             Married|House / apartment|       Managers|                    MONDAY|               Other|              null|          null|              null|               null|            100010|             0|                   0|                360000.0|         1530000.0|            42075.0|              1530000.0|              0.003121999999999...|            -18850|                 -449|                  -4597.0|                  -2379|                8.0|                 1|                     1|                      1|                       1|                 0|                 0|                    2.0|                           3|                                  3|                             16|                                 0|                                 0|                                  0|                             0|                             1|                              1|  0.5021298056566661|  0.7142792864482229|  0.5406544504453575|   0.11744049917464643|     0.08844221905180051|                 0.9777348581622161|     0.7524714325927284|     0.044620715411351|  0.07894151232416623|   0.1497246700679834|  0.22628190703664716|  0.23189350049056454| 0.06633318417239706|         0.10077477495067376|    0.1073990193325995|           0.008808672617209091|     0.028357757075796745|    0.11423100693299629|      0.08754321224758496|                  0.9770653729428661|      0.7596373227337418|    0.04255313775014629|   0.07448973610916797|   0.14519265864562494|   0.22231504747847514|   0.22805849255076463|  0.06495768445657653|          0.10564485674943506|    0.10597505043712185|            0.008076387544281912|       0.02702231968598766|    0.11784992076593205|      0.08795485466574765|                  0.9777522640693693|      0.7557462721916715|     0.0445951017852909|    0.0780778443113532|   0.14921278072862998|   0.22589659009261476|    0.2316249380493541|  0.06716874904939972|          0.10195447324073269|    0.10860673604899568|            0.008651013330210322|      0.028235920597262158|    0.1025466626854412|                             2.0|                             0.0|                             2.0|                             0.0|                       -1070.0|                      0|                      1|                      0|                      0|                      0|                      0|                      0|                      0|                       0|                       0|                       0|                       0|                       0|                       0|                       0|                       0|                       0|                       0|                       0|                       0|                               0.0|                              0.0|                               0.0|                              0.0|                              0.0|                               0.0|\n",
            "|        Cash loans|          F|           N|              Y|       Children|           Pensioner|Secondary / secon...|             Married|House / apartment|           null|                 WEDNESDAY|                 XNA|              null|          null|              null|               null|            100011|             0|                   0|                112500.0|         1019610.0|            33826.5|               913500.0|                          0.018634|            -20099|               365243|                  -7427.0|                  -3514| 12.061090818687727|                 1|                     0|                      0|                       1|                 0|                 0|                    2.0|                           2|                                  2|                             14|                                 0|                                 0|                                  0|                             0|                             0|                              0|  0.5873340468730377| 0.20574728800732814|  0.7517237147741489|   0.11744049917464643|     0.08844221905180051|                 0.9777348581622161|     0.7524714325927284|     0.044620715411351|  0.07894151232416623|   0.1497246700679834|  0.22628190703664716|  0.23189350049056454| 0.06633318417239706|         0.10077477495067376|    0.1073990193325995|           0.008808672617209091|     0.028357757075796745|    0.11423100693299629|      0.08754321224758496|                  0.9770653729428661|      0.7596373227337418|    0.04255313775014629|   0.07448973610916797|   0.14519265864562494|   0.22231504747847514|   0.22805849255076463|  0.06495768445657653|          0.10564485674943506|    0.10597505043712185|            0.008076387544281912|       0.02702231968598766|    0.11784992076593205|      0.08795485466574765|                  0.9777522640693693|      0.7557462721916715|     0.0445951017852909|    0.0780778443113532|   0.14921278072862998|   0.22589659009261476|    0.2316249380493541|  0.06716874904939972|          0.10195447324073269|    0.10860673604899568|            0.008651013330210322|      0.028235920597262158|    0.1025466626854412|                             1.0|                             0.0|                             1.0|                             0.0|                           0.0|                      0|                      1|                      0|                      0|                      0|                      0|                      0|                      0|                       0|                       0|                       0|                       0|                       0|                       0|                       0|                       0|                       0|                       0|                       0|                       0|                               0.0|                              0.0|                               0.0|                              0.0|                              0.0|                               1.0|\n",
            "|   Revolving loans|          M|           N|              Y|  Unaccompanied|             Working|Secondary / secon...|Single / not married|House / apartment|       Laborers|                  THURSDAY|         Electricity|              null|          null|              null|               null|            100012|             0|                   0|                135000.0|          405000.0|            20250.0|               405000.0|              0.019688999999999998|            -14469|                -2019|                 -14437.0|                  -3992| 12.061090818687727|                 1|                     1|                      0|                       1|                 0|                 0|                    1.0|                           2|                                  2|                              8|                                 0|                                 0|                                  0|                             0|                             0|                              0|  0.5021298056566661|  0.7466436294590924|  0.5108529061799263|   0.11744049917464643|     0.08844221905180051|                 0.9777348581622161|     0.7524714325927284|     0.044620715411351|  0.07894151232416623|   0.1497246700679834|  0.22628190703664716|  0.23189350049056454| 0.06633318417239706|         0.10077477495067376|    0.1073990193325995|           0.008808672617209091|     0.028357757075796745|    0.11423100693299629|      0.08754321224758496|                  0.9770653729428661|      0.7596373227337418|    0.04255313775014629|   0.07448973610916797|   0.14519265864562494|   0.22231504747847514|   0.22805849255076463|  0.06495768445657653|          0.10564485674943506|    0.10597505043712185|            0.008076387544281912|       0.02702231968598766|    0.11784992076593205|      0.08795485466574765|                  0.9777522640693693|      0.7557462721916715|     0.0445951017852909|    0.0780778443113532|   0.14921278072862998|   0.22589659009261476|    0.2316249380493541|  0.06716874904939972|          0.10195447324073269|    0.10860673604899568|            0.008651013330210322|      0.028235920597262158|    0.1025466626854412|                             2.0|                             0.0|                             2.0|                             0.0|                       -1673.0|                      0|                      0|                      0|                      0|                      0|                      0|                      0|                      0|                       0|                       0|                       0|                       0|                       0|                       0|                       0|                       0|                       0|                       0|                       0|                       0|              0.006402448193930645|             0.007000210532647...|                0.0343619356973142|              0.26739526000781977|              0.26547414959848414|                 1.899974435321363|\n",
            "|        Cash loans|          F|           N|              Y|  Unaccompanied|             Working|    Higher education|             Married|House / apartment|     Core staff|                  SATURDAY|            Medicine|              null|          null|              null|               null|            100014|             0|                   1|                112500.0|          652500.0|            21177.0|               652500.0|                            0.0228|            -10197|                 -679|                  -4427.0|                   -738| 12.061090818687727|                 1|                     1|                      0|                       1|                 0|                 0|                    3.0|                           2|                                  2|                             15|                                 0|                                 0|                                  0|                             0|                             0|                              0|  0.3197601716755032|  0.6518623334244781|   0.363945238612397|   0.11744049917464643|     0.08844221905180051|                 0.9777348581622161|     0.7524714325927284|     0.044620715411351|  0.07894151232416623|   0.1497246700679834|  0.22628190703664716|  0.23189350049056454| 0.06633318417239706|         0.10077477495067376|    0.1073990193325995|           0.008808672617209091|     0.028357757075796745|    0.11423100693299629|      0.08754321224758496|                  0.9770653729428661|      0.7596373227337418|    0.04255313775014629|   0.07448973610916797|   0.14519265864562494|   0.22231504747847514|   0.22805849255076463|  0.06495768445657653|          0.10564485674943506|    0.10597505043712185|            0.008076387544281912|       0.02702231968598766|    0.11784992076593205|      0.08795485466574765|                  0.9777522640693693|      0.7557462721916715|     0.0445951017852909|    0.0780778443113532|   0.14921278072862998|   0.22589659009261476|    0.2316249380493541|  0.06716874904939972|          0.10195447324073269|    0.10860673604899568|            0.008651013330210322|      0.028235920597262158|    0.1025466626854412|                             0.0|                             0.0|                             0.0|                             0.0|                        -844.0|                      0|                      1|                      0|                      0|                      0|                      0|                      0|                      0|                       0|                       0|                       0|                       0|                       0|                       0|                       0|                       0|                       0|                       0|                       0|                       0|                               0.0|                              0.0|                               0.0|                              1.0|                              0.0|                               0.0|\n",
            "|        Cash loans|          F|           N|              Y|       Children|           Pensioner|Secondary / secon...|             Married|House / apartment|           null|                    FRIDAY|                 XNA|              null|          null|              null|               null|            100015|             0|                   0|               38419.155|          148365.0|            10678.5|               135000.0|                          0.015221|            -20417|               365243|                  -5246.0|                  -2512| 12.061090818687727|                 1|                     0|                      0|                       1|                 1|                 0|                    2.0|                           2|                                  2|                              7|                                 0|                                 0|                                  0|                             0|                             0|                              0|  0.7220444501416448|  0.5551831615131809|  0.6528965519806539|   0.11744049917464643|     0.08844221905180051|                 0.9777348581622161|     0.7524714325927284|     0.044620715411351|  0.07894151232416623|   0.1497246700679834|  0.22628190703664716|  0.23189350049056454| 0.06633318417239706|         0.10077477495067376|    0.1073990193325995|           0.008808672617209091|     0.028357757075796745|    0.11423100693299629|      0.08754321224758496|                  0.9770653729428661|      0.7596373227337418|    0.04255313775014629|   0.07448973610916797|   0.14519265864562494|   0.22231504747847514|   0.22805849255076463|  0.06495768445657653|          0.10564485674943506|    0.10597505043712185|            0.008076387544281912|       0.02702231968598766|    0.11784992076593205|      0.08795485466574765|                  0.9777522640693693|      0.7557462721916715|     0.0445951017852909|    0.0780778443113532|   0.14921278072862998|   0.22589659009261476|    0.2316249380493541|  0.06716874904939972|          0.10195447324073269|    0.10860673604899568|            0.008651013330210322|      0.028235920597262158|    0.1025466626854412|                             0.0|                             0.0|                             0.0|                             0.0|                       -2396.0|                      0|                      0|                      0|                      0|                      1|                      0|                      0|                      0|                       0|                       0|                       0|                       0|                       0|                       0|                       0|                       0|                       0|                       0|                       0|                       0|                               0.0|                              0.0|                               0.0|                              0.0|                              0.0|                               2.0|\n",
            "|        Cash loans|          F|           N|              Y|  Unaccompanied|             Working|Secondary / secon...|             Married|House / apartment|       Laborers|                    FRIDAY|Business Entity T...|  reg oper account|block of flats|              null|                 No|            100016|             0|                   0|                 67500.0|           80865.0|             5881.5|                67500.0|                          0.031329|            -13439|                -2717|                   -311.0|                  -3227| 12.061090818687727|                 1|                     1|                      1|                       1|                 1|                 0|                    2.0|                           2|                                  2|                             10|                                 0|                                 0|                                  0|                             0|                             0|                              0|  0.4648311169632833|  0.7150418188660659|  0.1766525794312139|                0.0825|     0.08844221905180051|                             0.9811|     0.7524714325927284|     0.044620715411351|                  0.0|               0.2069|               0.1667|  0.23189350049056454|              0.0135|         0.10077477495067376|                0.0778|           0.008808672617209091|                      0.0|                  0.084|      0.08754321224758496|                              0.9811|      0.7596373227337418|    0.04255313775014629|                   0.0|                0.2069|                0.1667|   0.22805849255076463|               0.0138|          0.10564485674943506|                  0.081|            0.008076387544281912|                       0.0|                 0.0833|      0.08795485466574765|                              0.9811|      0.7557462721916715|     0.0445951017852909|                   0.0|                0.2069|                0.1667|    0.2316249380493541|               0.0137|          0.10195447324073269|                 0.0792|            0.008651013330210322|                       0.0|                0.0612|                             0.0|                             0.0|                             0.0|                             0.0|                       -2370.0|                      0|                      1|                      0|                      0|                      0|                      0|                      0|                      0|                       0|                       0|                       0|                       0|                       0|                       0|                       0|                       0|                       0|                       0|                       0|                       0|                               0.0|                              0.0|                               0.0|                              1.0|                              0.0|                               0.0|\n",
            "|        Cash loans|          M|           Y|              N|  Unaccompanied|             Working|Secondary / secon...|             Married|House / apartment|        Drivers|                  THURSDAY|       Self-employed|  reg oper account|block of flats|             Panel|                 No|            100017|             0|                   1|                225000.0|          918468.0|            28966.5|               697500.0|              0.016612000000000002|            -14086|                -3028|                   -643.0|                  -4911|               23.0|                 1|                     1|                      0|                       1|                 0|                 0|                    3.0|                           2|                                  2|                             13|                                 0|                                 0|                                  0|                             0|                             0|                              0|  0.5021298056566661|  0.5669066132460429|  0.7700870700124128|                0.1474|                  0.0973|                             0.9806|                 0.7348|                0.0582|                 0.16|               0.1379|               0.3333|                0.375|              0.0931|                      0.1202|                0.1397|                            0.0|                      0.0|                 0.1502|                    0.101|                              0.9806|                  0.7452|                 0.0587|                0.1611|                0.1379|                0.3333|                 0.375|               0.0952|                       0.1313|                 0.1456|                             0.0|                       0.0|                 0.1489|                   0.0973|                              0.9806|                  0.7383|                 0.0585|                  0.16|                0.1379|                0.3333|                 0.375|               0.0947|                       0.1223|                 0.1422|                             0.0|                       0.0|                0.1417|                             0.0|                             0.0|                             0.0|                             0.0|                          -4.0|                      0|                      1|                      0|                      0|                      0|                      0|                      0|                      0|                       0|                       0|                       0|                       0|                       0|                       0|                       0|                       0|                       0|                       0|                       0|                       0|                               0.0|                              0.0|                               0.0|                              0.0|                              0.0|                               1.0|\n",
            "|        Cash loans|          F|           N|              Y|  Unaccompanied|             Working|Secondary / secon...|             Married|House / apartment|       Laborers|                    MONDAY|   Transport: type 2|  reg oper account|block of flats|             Panel|                 No|            100018|             0|                   0|                189000.0|          773680.5|            32778.0|               679500.0|              0.010006000000000001|            -14583|                 -203|                   -615.0|                  -2056| 12.061090818687727|                 1|                     1|                      0|                       1|                 0|                 0|                    2.0|                           2|                                  1|                              9|                                 0|                                 0|                                  0|                             0|                             0|                              0|  0.7219397686622343|  0.6426562048311103|  0.5108529061799263|                0.3495|                  0.1335|                             0.9985|                 0.9796|                0.1143|                  0.4|               0.1724|               0.6667|               0.7083|              0.1758|                      0.2849|                0.3774|                         0.0193|                   0.1001|                 0.3561|                   0.1386|                              0.9985|                  0.9804|                 0.1153|                0.4028|                0.1724|                0.6667|                0.7083|               0.1798|                       0.3113|                 0.3932|                          0.0195|                     0.106|                 0.3529|                   0.1335|                              0.9985|                  0.9799|                  0.115|                   0.4|                0.1724|                0.6667|                0.7083|               0.1789|                       0.2899|                 0.3842|                          0.0194|                    0.1022|                0.3811|                             0.0|                             0.0|                             0.0|                             0.0|                        -188.0|                      0|                      1|                      0|                      0|                      0|                      0|                      0|                      0|                       0|                       0|                       0|                       0|                       0|                       0|                       0|                       0|                       0|                       0|                       0|                       0|              0.006402448193930645|             0.007000210532647...|                0.0343619356973142|              0.26739526000781977|              0.26547414959848414|                 1.899974435321363|\n",
            "|        Cash loans|          M|           Y|              Y|         Family|             Working|Secondary / secon...|Single / not married| Rented apartment|       Laborers|                  SATURDAY|Business Entity T...|              null|          null|              null|               null|            100019|             0|                   0|                157500.0|          299772.0|            20160.0|               247500.0|                          0.020713|             -8728|                -1157|                  -3494.0|                  -1368|               17.0|                 1|                     1|                      0|                       1|                 0|                 0|                    1.0|                           3|                                  3|                              6|                                 0|                                 0|                                  0|                             1|                             1|                              0| 0.11563433726229973|    0.34663398139668|  0.6785676886853644|   0.11744049917464643|     0.08844221905180051|                 0.9777348581622161|     0.7524714325927284|     0.044620715411351|  0.07894151232416623|   0.1497246700679834|  0.22628190703664716|  0.23189350049056454| 0.06633318417239706|         0.10077477495067376|    0.1073990193325995|           0.008808672617209091|     0.028357757075796745|    0.11423100693299629|      0.08754321224758496|                  0.9770653729428661|      0.7596373227337418|    0.04255313775014629|   0.07448973610916797|   0.14519265864562494|   0.22231504747847514|   0.22805849255076463|  0.06495768445657653|          0.10564485674943506|    0.10597505043712185|            0.008076387544281912|       0.02702231968598766|    0.11784992076593205|      0.08795485466574765|                  0.9777522640693693|      0.7557462721916715|     0.0445951017852909|    0.0780778443113532|   0.14921278072862998|   0.22589659009261476|    0.2316249380493541|  0.06716874904939972|          0.10195447324073269|    0.10860673604899568|            0.008651013330210322|      0.028235920597262158|    0.1025466626854412|                             0.0|                             0.0|                             0.0|                             0.0|                        -925.0|                      0|                      0|                      0|                      0|                      0|                      0|                      1|                      0|                       0|                       0|                       0|                       0|                       0|                       0|                       0|                       0|                       0|                       0|                       0|                       0|                               0.0|                              0.0|                               0.0|                              0.0|                              0.0|                               1.0|\n",
            "|        Cash loans|          M|           N|              N|  Unaccompanied|             Working|Secondary / secon...|             Married|House / apartment|        Drivers|                  THURSDAY|          Government|              null|          null|              null|               null|            100020|             0|                   0|                108000.0|          509602.5|            26149.5|               387000.0|                          0.018634|            -12931|                -1317|                  -6392.0|                  -3866| 12.061090818687727|                 1|                     1|                      0|                       1|                 0|                 0|                    2.0|                           2|                                  2|                             12|                                 0|                                 0|                                  0|                             1|                             1|                              0|  0.5021298056566661|  0.2363778398884225| 0.06210303783729682|   0.11744049917464643|     0.08844221905180051|                 0.9777348581622161|     0.7524714325927284|     0.044620715411351|  0.07894151232416623|   0.1497246700679834|  0.22628190703664716|  0.23189350049056454| 0.06633318417239706|         0.10077477495067376|    0.1073990193325995|           0.008808672617209091|     0.028357757075796745|    0.11423100693299629|      0.08754321224758496|                  0.9770653729428661|      0.7596373227337418|    0.04255313775014629|   0.07448973610916797|   0.14519265864562494|   0.22231504747847514|   0.22805849255076463|  0.06495768445657653|          0.10564485674943506|    0.10597505043712185|            0.008076387544281912|       0.02702231968598766|    0.11784992076593205|      0.08795485466574765|                  0.9777522640693693|      0.7557462721916715|     0.0445951017852909|    0.0780778443113532|   0.14921278072862998|   0.22589659009261476|    0.2316249380493541|  0.06716874904939972|          0.10195447324073269|    0.10860673604899568|            0.008651013330210322|      0.028235920597262158|    0.1025466626854412|                             0.0|                             0.0|                             0.0|                             0.0|                          -3.0|                      0|                      1|                      0|                      0|                      0|                      0|                      0|                      0|                       0|                       0|                       0|                       0|                       0|                       0|                       0|                       0|                       0|                       0|                       0|                       0|                               0.0|                              0.0|                               0.0|                              0.0|                              1.0|                               0.0|\n",
            "|   Revolving loans|          F|           N|              Y|  Unaccompanied|             Working|Secondary / secon...|             Married|House / apartment|       Laborers|                    MONDAY|        Construction|              null|          null|              null|               null|            100021|             0|                   1|                 81000.0|          270000.0|            13500.0|               270000.0|                          0.010966|             -9776|                 -191|                  -4143.0|                  -2427| 12.061090818687727|                 1|                     1|                      0|                       1|                 0|                 0|                    3.0|                           2|                                  2|                             10|                                 0|                                 0|                                  0|                             1|                             1|                              0|  0.5021298056566661|  0.6835133461914255|  0.5108529061799263|   0.11744049917464643|     0.08844221905180051|                 0.9777348581622161|     0.7524714325927284|     0.044620715411351|  0.07894151232416623|   0.1497246700679834|  0.22628190703664716|  0.23189350049056454| 0.06633318417239706|         0.10077477495067376|    0.1073990193325995|           0.008808672617209091|     0.028357757075796745|    0.11423100693299629|      0.08754321224758496|                  0.9770653729428661|      0.7596373227337418|    0.04255313775014629|   0.07448973610916797|   0.14519265864562494|   0.22231504747847514|   0.22805849255076463|  0.06495768445657653|          0.10564485674943506|    0.10597505043712185|            0.008076387544281912|       0.02702231968598766|    0.11784992076593205|      0.08795485466574765|                  0.9777522640693693|      0.7557462721916715|     0.0445951017852909|    0.0780778443113532|   0.14921278072862998|   0.22589659009261476|    0.2316249380493541|  0.06716874904939972|          0.10195447324073269|    0.10860673604899568|            0.008651013330210322|      0.028235920597262158|    0.1025466626854412|                             4.0|                             0.0|                             4.0|                             0.0|                       -2811.0|                      0|                      0|                      0|                      0|                      0|                      0|                      0|                      0|                       0|                       0|                       0|                       0|                       0|                       0|                       0|                       0|                       0|                       0|                       0|                       0|              0.006402448193930645|             0.007000210532647...|                0.0343619356973142|              0.26739526000781977|              0.26547414959848414|                 1.899974435321363|\n",
            "|   Revolving loans|          F|           N|              Y|        Other_A|             Working|Secondary / secon...|               Widow|House / apartment|       Laborers|                    FRIDAY|             Housing|  reg oper account|block of flats|      Stone, brick|                 No|            100022|             0|                   0|                112500.0|          157500.0|             7875.0|               157500.0|                           0.04622|            -17718|                -7804|                  -8751.0|                  -1259| 12.061090818687727|                 1|                     1|                      0|                       1|                 1|                 0|                    1.0|                           1|                                  1|                             13|                                 0|                                 0|                                  0|                             0|                             0|                              0|  0.5021298056566661|  0.7064284028871654|  0.5567274263630174|                0.0278|                  0.0617|                             0.9881|                 0.8368|                0.0018|                  0.0|               0.1034|               0.0833|                0.125|              0.0279|                      0.0227|                 0.029|                            0.0|                      0.0|                 0.0284|                    0.064|                              0.9881|                  0.8432|                 0.0018|                   0.0|                0.1034|                0.0833|                 0.125|               0.0286|                       0.0248|                 0.0302|                             0.0|                       0.0|                 0.0281|                   0.0617|                              0.9881|      0.8390000000000001|                 0.0018|                   0.0|                0.1034|                0.0833|                 0.125|               0.0284|                       0.0231|                 0.0295|                             0.0|                       0.0|                0.0238|                             8.0|                             0.0|                             8.0|                             0.0|                        -239.0|                      0|                      1|                      0|                      0|                      0|                      0|                      0|                      0|                       0|                       0|                       0|                       0|                       0|                       0|                       0|                       0|                       0|                       0|                       0|                       0|                               0.0|                              0.0|                               0.0|                              0.0|                              0.0|                               0.0|\n",
            "|        Cash loans|          F|           N|              Y|  Unaccompanied|       State servant|    Higher education|Single / not married|House / apartment|     Core staff|                    MONDAY|        Kindergarten|              null|          null|              null|               null|            100023|             0|                   1|                 90000.0|          544491.0|            17563.5|               454500.0|                          0.015221|            -11348|                -2038|                  -1021.0|                  -3964| 12.061090818687727|                 1|                     1|                      1|                       1|                 1|                 0|                    2.0|                           2|                                  2|                             12|                                 0|                                 0|                                  0|                             0|                             0|                              0|  0.5021298056566661|  0.5866171400119664|  0.4776491548517548|   0.11744049917464643|     0.08844221905180051|                 0.9777348581622161|     0.7524714325927284|     0.044620715411351|  0.07894151232416623|   0.1497246700679834|  0.22628190703664716|  0.23189350049056454| 0.06633318417239706|         0.10077477495067376|    0.1073990193325995|           0.008808672617209091|     0.028357757075796745|    0.11423100693299629|      0.08754321224758496|                  0.9770653729428661|      0.7596373227337418|    0.04255313775014629|   0.07448973610916797|   0.14519265864562494|   0.22231504747847514|   0.22805849255076463|  0.06495768445657653|          0.10564485674943506|    0.10597505043712185|            0.008076387544281912|       0.02702231968598766|    0.11784992076593205|      0.08795485466574765|                  0.9777522640693693|      0.7557462721916715|     0.0445951017852909|    0.0780778443113532|   0.14921278072862998|   0.22589659009261476|    0.2316249380493541|  0.06716874904939972|          0.10195447324073269|    0.10860673604899568|            0.008651013330210322|      0.028235920597262158|    0.1025466626854412|                             0.0|                             0.0|                             0.0|                             0.0|                       -1850.0|                      0|                      1|                      0|                      0|                      0|                      0|                      0|                      0|                       0|                       0|                       0|                       0|                       0|                       0|                       0|                       0|                       0|                       0|                       0|                       0|                               0.0|                              0.0|                               0.0|                              0.0|                              0.0|                               2.0|\n",
            "+------------------+-----------+------------+---------------+---------------+--------------------+--------------------+--------------------+-----------------+---------------+--------------------------+--------------------+------------------+--------------+------------------+-------------------+------------------+--------------+--------------------+------------------------+------------------+-------------------+-----------------------+----------------------------------+------------------+---------------------+-------------------------+-----------------------+-------------------+------------------+----------------------+-----------------------+------------------------+------------------+------------------+-----------------------+----------------------------+-----------------------------------+-------------------------------+----------------------------------+----------------------------------+-----------------------------------+------------------------------+------------------------------+-------------------------------+--------------------+--------------------+--------------------+----------------------+------------------------+-----------------------------------+-----------------------+----------------------+---------------------+---------------------+---------------------+---------------------+--------------------+----------------------------+----------------------+-------------------------------+-------------------------+-----------------------+-------------------------+------------------------------------+------------------------+-----------------------+----------------------+----------------------+----------------------+----------------------+---------------------+-----------------------------+-----------------------+--------------------------------+--------------------------+-----------------------+-------------------------+------------------------------------+------------------------+-----------------------+----------------------+----------------------+----------------------+----------------------+---------------------+-----------------------------+-----------------------+--------------------------------+--------------------------+----------------------+--------------------------------+--------------------------------+--------------------------------+--------------------------------+------------------------------+-----------------------+-----------------------+-----------------------+-----------------------+-----------------------+-----------------------+-----------------------+-----------------------+------------------------+------------------------+------------------------+------------------------+------------------------+------------------------+------------------------+------------------------+------------------------+------------------------+------------------------+------------------------+----------------------------------+---------------------------------+----------------------------------+---------------------------------+---------------------------------+----------------------------------+\n",
            "only showing top 20 rows\n",
            "\n"
          ]
        }
      ],
      "source": [
        "#remove the repeated colum from the dataframe\n",
        "df_num_updated = df_num.drop(*num_col)\n",
        "df_num_updated.show()"
      ]
    },
    {
      "cell_type": "code",
      "execution_count": null,
      "metadata": {
        "colab": {
          "base_uri": "https://localhost:8080/"
        },
        "id": "EP9n4LK0PK4A",
        "outputId": "38ee4017-bae2-4fa5-e3dd-dc9bc5fdd857"
      },
      "outputs": [
        {
          "name": "stdout",
          "output_type": "stream",
          "text": [
            "+------------------+-----------+------------+---------------+---------------+--------------------+--------------------+--------------------+-----------------+--------------------------+--------------------+-------------------+------------------+--------------+--------------------+------------------------+------------------+-------------------+-----------------------+----------------------------------+------------------+---------------------+-------------------------+-----------------------+-------------------+------------------+----------------------+-----------------------+------------------------+------------------+------------------+-----------------------+----------------------------+-----------------------------------+-------------------------------+----------------------------------+----------------------------------+-----------------------------------+------------------------------+------------------------------+-------------------------------+--------------------+--------------------+--------------------+----------------------+------------------------+-----------------------------------+-----------------------+----------------------+---------------------+---------------------+---------------------+---------------------+--------------------+----------------------------+----------------------+-------------------------------+-------------------------+-----------------------+-------------------------+------------------------------------+------------------------+-----------------------+----------------------+----------------------+----------------------+----------------------+---------------------+-----------------------------+-----------------------+--------------------------------+--------------------------+-----------------------+-------------------------+------------------------------------+------------------------+-----------------------+----------------------+----------------------+----------------------+----------------------+---------------------+-----------------------------+-----------------------+--------------------------------+--------------------------+----------------------+--------------------------------+--------------------------------+--------------------------------+--------------------------------+------------------------------+-----------------------+-----------------------+-----------------------+-----------------------+-----------------------+-----------------------+-----------------------+-----------------------+------------------------+------------------------+------------------------+------------------------+------------------------+------------------------+------------------------+------------------------+------------------------+------------------------+------------------------+------------------------+----------------------------------+---------------------------------+----------------------------------+---------------------------------+---------------------------------+----------------------------------+\n",
            "|NAME_CONTRACT_TYPE|CODE_GENDER|FLAG_OWN_CAR|FLAG_OWN_REALTY|NAME_TYPE_SUITE|    NAME_INCOME_TYPE| NAME_EDUCATION_TYPE|  NAME_FAMILY_STATUS|NAME_HOUSING_TYPE|WEEKDAY_APPR_PROCESS_START|   ORGANIZATION_TYPE|EMERGENCYSTATE_MODE|SK_ID_CURR_imputed|TARGET_imputed|CNT_CHILDREN_imputed|AMT_INCOME_TOTAL_imputed|AMT_CREDIT_imputed|AMT_ANNUITY_imputed|AMT_GOODS_PRICE_imputed|REGION_POPULATION_RELATIVE_imputed|DAYS_BIRTH_imputed|DAYS_EMPLOYED_imputed|DAYS_REGISTRATION_imputed|DAYS_ID_PUBLISH_imputed|OWN_CAR_AGE_imputed|FLAG_MOBIL_imputed|FLAG_EMP_PHONE_imputed|FLAG_WORK_PHONE_imputed|FLAG_CONT_MOBILE_imputed|FLAG_PHONE_imputed|FLAG_EMAIL_imputed|CNT_FAM_MEMBERS_imputed|REGION_RATING_CLIENT_imputed|REGION_RATING_CLIENT_W_CITY_imputed|HOUR_APPR_PROCESS_START_imputed|REG_REGION_NOT_LIVE_REGION_imputed|REG_REGION_NOT_WORK_REGION_imputed|LIVE_REGION_NOT_WORK_REGION_imputed|REG_CITY_NOT_LIVE_CITY_imputed|REG_CITY_NOT_WORK_CITY_imputed|LIVE_CITY_NOT_WORK_CITY_imputed|EXT_SOURCE_1_imputed|EXT_SOURCE_2_imputed|EXT_SOURCE_3_imputed|APARTMENTS_AVG_imputed|BASEMENTAREA_AVG_imputed|YEARS_BEGINEXPLUATATION_AVG_imputed|YEARS_BUILD_AVG_imputed|COMMONAREA_AVG_imputed|ELEVATORS_AVG_imputed|ENTRANCES_AVG_imputed|FLOORSMAX_AVG_imputed|FLOORSMIN_AVG_imputed|LANDAREA_AVG_imputed|LIVINGAPARTMENTS_AVG_imputed|LIVINGAREA_AVG_imputed|NONLIVINGAPARTMENTS_AVG_imputed|NONLIVINGAREA_AVG_imputed|APARTMENTS_MODE_imputed|BASEMENTAREA_MODE_imputed|YEARS_BEGINEXPLUATATION_MODE_imputed|YEARS_BUILD_MODE_imputed|COMMONAREA_MODE_imputed|ELEVATORS_MODE_imputed|ENTRANCES_MODE_imputed|FLOORSMAX_MODE_imputed|FLOORSMIN_MODE_imputed|LANDAREA_MODE_imputed|LIVINGAPARTMENTS_MODE_imputed|LIVINGAREA_MODE_imputed|NONLIVINGAPARTMENTS_MODE_imputed|NONLIVINGAREA_MODE_imputed|APARTMENTS_MEDI_imputed|BASEMENTAREA_MEDI_imputed|YEARS_BEGINEXPLUATATION_MEDI_imputed|YEARS_BUILD_MEDI_imputed|COMMONAREA_MEDI_imputed|ELEVATORS_MEDI_imputed|ENTRANCES_MEDI_imputed|FLOORSMAX_MEDI_imputed|FLOORSMIN_MEDI_imputed|LANDAREA_MEDI_imputed|LIVINGAPARTMENTS_MEDI_imputed|LIVINGAREA_MEDI_imputed|NONLIVINGAPARTMENTS_MEDI_imputed|NONLIVINGAREA_MEDI_imputed|TOTALAREA_MODE_imputed|OBS_30_CNT_SOCIAL_CIRCLE_imputed|DEF_30_CNT_SOCIAL_CIRCLE_imputed|OBS_60_CNT_SOCIAL_CIRCLE_imputed|DEF_60_CNT_SOCIAL_CIRCLE_imputed|DAYS_LAST_PHONE_CHANGE_imputed|FLAG_DOCUMENT_2_imputed|FLAG_DOCUMENT_3_imputed|FLAG_DOCUMENT_4_imputed|FLAG_DOCUMENT_5_imputed|FLAG_DOCUMENT_6_imputed|FLAG_DOCUMENT_7_imputed|FLAG_DOCUMENT_8_imputed|FLAG_DOCUMENT_9_imputed|FLAG_DOCUMENT_10_imputed|FLAG_DOCUMENT_11_imputed|FLAG_DOCUMENT_12_imputed|FLAG_DOCUMENT_13_imputed|FLAG_DOCUMENT_14_imputed|FLAG_DOCUMENT_15_imputed|FLAG_DOCUMENT_16_imputed|FLAG_DOCUMENT_17_imputed|FLAG_DOCUMENT_18_imputed|FLAG_DOCUMENT_19_imputed|FLAG_DOCUMENT_20_imputed|FLAG_DOCUMENT_21_imputed|AMT_REQ_CREDIT_BUREAU_HOUR_imputed|AMT_REQ_CREDIT_BUREAU_DAY_imputed|AMT_REQ_CREDIT_BUREAU_WEEK_imputed|AMT_REQ_CREDIT_BUREAU_MON_imputed|AMT_REQ_CREDIT_BUREAU_QRT_imputed|AMT_REQ_CREDIT_BUREAU_YEAR_imputed|\n",
            "+------------------+-----------+------------+---------------+---------------+--------------------+--------------------+--------------------+-----------------+--------------------------+--------------------+-------------------+------------------+--------------+--------------------+------------------------+------------------+-------------------+-----------------------+----------------------------------+------------------+---------------------+-------------------------+-----------------------+-------------------+------------------+----------------------+-----------------------+------------------------+------------------+------------------+-----------------------+----------------------------+-----------------------------------+-------------------------------+----------------------------------+----------------------------------+-----------------------------------+------------------------------+------------------------------+-------------------------------+--------------------+--------------------+--------------------+----------------------+------------------------+-----------------------------------+-----------------------+----------------------+---------------------+---------------------+---------------------+---------------------+--------------------+----------------------------+----------------------+-------------------------------+-------------------------+-----------------------+-------------------------+------------------------------------+------------------------+-----------------------+----------------------+----------------------+----------------------+----------------------+---------------------+-----------------------------+-----------------------+--------------------------------+--------------------------+-----------------------+-------------------------+------------------------------------+------------------------+-----------------------+----------------------+----------------------+----------------------+----------------------+---------------------+-----------------------------+-----------------------+--------------------------------+--------------------------+----------------------+--------------------------------+--------------------------------+--------------------------------+--------------------------------+------------------------------+-----------------------+-----------------------+-----------------------+-----------------------+-----------------------+-----------------------+-----------------------+-----------------------+------------------------+------------------------+------------------------+------------------------+------------------------+------------------------+------------------------+------------------------+------------------------+------------------------+------------------------+------------------------+----------------------------------+---------------------------------+----------------------------------+---------------------------------+---------------------------------+----------------------------------+\n",
            "|        Cash loans|          M|           N|              Y|  Unaccompanied|             Working|Secondary / secon...|Single / not married|House / apartment|                 WEDNESDAY|Business Entity T...|                 No|            100002|             1|                   0|                202500.0|          406597.5|            24700.5|               351000.0|                          0.018801|             -9461|                 -637|                  -3648.0|                  -2120| 12.061090818687727|                 1|                     1|                      0|                       1|                 1|                 0|                    1.0|                           2|                                  2|                             10|                                 0|                                 0|                                  0|                             0|                             0|                              0| 0.08303696739132256|  0.2629485927471776| 0.13937578009978951|                0.0247|                  0.0369|                             0.9722|                 0.6192|                0.0143|                  0.0|                0.069|               0.0833|                0.125|              0.0369|                      0.0202|                 0.019|                            0.0|                      0.0|                 0.0252|                   0.0383|                              0.9722|                  0.6341|                 0.0144|                   0.0|                 0.069|                0.0833|                 0.125|               0.0377|                        0.022|                 0.0198|                             0.0|                       0.0|                  0.025|                   0.0369|                              0.9722|                  0.6243|                 0.0144|                   0.0|                 0.069|                0.0833|                 0.125|               0.0375|                       0.0205|                 0.0193|                             0.0|                       0.0|                0.0149|                             2.0|                             2.0|                             2.0|                             2.0|                       -1134.0|                      0|                      1|                      0|                      0|                      0|                      0|                      0|                      0|                       0|                       0|                       0|                       0|                       0|                       0|                       0|                       0|                       0|                       0|                       0|                       0|                               0.0|                              0.0|                               0.0|                              0.0|                              0.0|                               1.0|\n",
            "|        Cash loans|          F|           N|              N|         Family|       State servant|    Higher education|             Married|House / apartment|                    MONDAY|              School|                 No|            100003|             0|                   0|                270000.0|         1293502.5|            35698.5|              1129500.0|              0.003540999999999999|            -16765|                -1188|                  -1186.0|                   -291| 12.061090818687727|                 1|                     1|                      0|                       1|                 1|                 0|                    2.0|                           1|                                  1|                             11|                                 0|                                 0|                                  0|                             0|                             0|                              0|  0.3112673113812225|  0.6222457752555098|  0.5108529061799263|                0.0959|                  0.0529|                             0.9851|     0.7959999999999999|                0.0605|                 0.08|               0.0345|               0.2917|               0.3333|               0.013|                      0.0773|                0.0549|                         0.0039|                   0.0098|                 0.0924|                   0.0538|                              0.9851|                   0.804|                 0.0497|                0.0806|                0.0345|                0.2917|                0.3333|               0.0128|                        0.079|                 0.0554|                             0.0|                       0.0|                 0.0968|                   0.0529|                              0.9851|                  0.7987|                 0.0608|                  0.08|                0.0345|                0.2917|                0.3333|               0.0132|                       0.0787|                 0.0558|                          0.0039|                      0.01|                0.0714|                             1.0|                             0.0|                             1.0|                             0.0|                        -828.0|                      0|                      1|                      0|                      0|                      0|                      0|                      0|                      0|                       0|                       0|                       0|                       0|                       0|                       0|                       0|                       0|                       0|                       0|                       0|                       0|                               0.0|                              0.0|                               0.0|                              0.0|                              0.0|                               0.0|\n",
            "|   Revolving loans|          M|           Y|              Y|  Unaccompanied|             Working|Secondary / secon...|Single / not married|House / apartment|                    MONDAY|          Government|                 No|            100004|             0|                   0|                 67500.0|          135000.0|             6750.0|               135000.0|                          0.010032|            -19046|                 -225|                  -4260.0|                  -2531|               26.0|                 1|                     1|                      1|                       1|                 1|                 0|                    1.0|                           2|                                  2|                              9|                                 0|                                 0|                                  0|                             0|                             0|                              0|  0.5021298056566661|  0.5559120833904428|  0.7295666907060153|   0.11744049917464643|     0.08844221905180051|                 0.9777348581622161|     0.7524714325927284|     0.044620715411351|  0.07894151232416623|   0.1497246700679834|  0.22628190703664716|  0.23189350049056454| 0.06633318417239706|         0.10077477495067376|    0.1073990193325995|           0.008808672617209091|     0.028357757075796745|    0.11423100693299629|      0.08754321224758496|                  0.9770653729428661|      0.7596373227337418|    0.04255313775014629|   0.07448973610916797|   0.14519265864562494|   0.22231504747847514|   0.22805849255076463|  0.06495768445657653|          0.10564485674943506|    0.10597505043712185|            0.008076387544281912|       0.02702231968598766|    0.11784992076593205|      0.08795485466574765|                  0.9777522640693693|      0.7557462721916715|     0.0445951017852909|    0.0780778443113532|   0.14921278072862998|   0.22589659009261476|    0.2316249380493541|  0.06716874904939972|          0.10195447324073269|    0.10860673604899568|            0.008651013330210322|      0.028235920597262158|    0.1025466626854412|                             0.0|                             0.0|                             0.0|                             0.0|                        -815.0|                      0|                      0|                      0|                      0|                      0|                      0|                      0|                      0|                       0|                       0|                       0|                       0|                       0|                       0|                       0|                       0|                       0|                       0|                       0|                       0|                               0.0|                              0.0|                               0.0|                              0.0|                              0.0|                               0.0|\n",
            "|        Cash loans|          F|           N|              Y|  Unaccompanied|             Working|Secondary / secon...|      Civil marriage|House / apartment|                 WEDNESDAY|Business Entity T...|                 No|            100006|             0|                   0|                135000.0|          312682.5|            29686.5|               297000.0|                          0.008019|            -19005|                -3039|                  -9833.0|                  -2437| 12.061090818687727|                 1|                     1|                      0|                       1|                 0|                 0|                    2.0|                           2|                                  2|                             17|                                 0|                                 0|                                  0|                             0|                             0|                              0|  0.5021298056566661|  0.6504416904014653|  0.5108529061799263|   0.11744049917464643|     0.08844221905180051|                 0.9777348581622161|     0.7524714325927284|     0.044620715411351|  0.07894151232416623|   0.1497246700679834|  0.22628190703664716|  0.23189350049056454| 0.06633318417239706|         0.10077477495067376|    0.1073990193325995|           0.008808672617209091|     0.028357757075796745|    0.11423100693299629|      0.08754321224758496|                  0.9770653729428661|      0.7596373227337418|    0.04255313775014629|   0.07448973610916797|   0.14519265864562494|   0.22231504747847514|   0.22805849255076463|  0.06495768445657653|          0.10564485674943506|    0.10597505043712185|            0.008076387544281912|       0.02702231968598766|    0.11784992076593205|      0.08795485466574765|                  0.9777522640693693|      0.7557462721916715|     0.0445951017852909|    0.0780778443113532|   0.14921278072862998|   0.22589659009261476|    0.2316249380493541|  0.06716874904939972|          0.10195447324073269|    0.10860673604899568|            0.008651013330210322|      0.028235920597262158|    0.1025466626854412|                             2.0|                             0.0|                             2.0|                             0.0|                        -617.0|                      0|                      1|                      0|                      0|                      0|                      0|                      0|                      0|                       0|                       0|                       0|                       0|                       0|                       0|                       0|                       0|                       0|                       0|                       0|                       0|              0.006402448193930645|             0.007000210532647...|                0.0343619356973142|              0.26739526000781977|              0.26547414959848414|                 1.899974435321363|\n",
            "|        Cash loans|          M|           N|              Y|  Unaccompanied|             Working|Secondary / secon...|Single / not married|House / apartment|                  THURSDAY|            Religion|                 No|            100007|             0|                   0|                121500.0|          513000.0|            21865.5|               513000.0|                          0.028663|            -19932|                -3038|                  -4311.0|                  -3458| 12.061090818687727|                 1|                     1|                      0|                       1|                 0|                 0|                    1.0|                           2|                                  2|                             11|                                 0|                                 0|                                  0|                             0|                             1|                              1|  0.5021298056566661|  0.3227382869704046|  0.5108529061799263|   0.11744049917464643|     0.08844221905180051|                 0.9777348581622161|     0.7524714325927284|     0.044620715411351|  0.07894151232416623|   0.1497246700679834|  0.22628190703664716|  0.23189350049056454| 0.06633318417239706|         0.10077477495067376|    0.1073990193325995|           0.008808672617209091|     0.028357757075796745|    0.11423100693299629|      0.08754321224758496|                  0.9770653729428661|      0.7596373227337418|    0.04255313775014629|   0.07448973610916797|   0.14519265864562494|   0.22231504747847514|   0.22805849255076463|  0.06495768445657653|          0.10564485674943506|    0.10597505043712185|            0.008076387544281912|       0.02702231968598766|    0.11784992076593205|      0.08795485466574765|                  0.9777522640693693|      0.7557462721916715|     0.0445951017852909|    0.0780778443113532|   0.14921278072862998|   0.22589659009261476|    0.2316249380493541|  0.06716874904939972|          0.10195447324073269|    0.10860673604899568|            0.008651013330210322|      0.028235920597262158|    0.1025466626854412|                             0.0|                             0.0|                             0.0|                             0.0|                       -1106.0|                      0|                      0|                      0|                      0|                      0|                      0|                      1|                      0|                       0|                       0|                       0|                       0|                       0|                       0|                       0|                       0|                       0|                       0|                       0|                       0|                               0.0|                              0.0|                               0.0|                              0.0|                              0.0|                               0.0|\n",
            "|        Cash loans|          M|           N|              Y|Spouse, partner|       State servant|Secondary / secon...|             Married|House / apartment|                 WEDNESDAY|               Other|                 No|            100008|             0|                   0|                 99000.0|          490495.5|            27517.5|               454500.0|              0.035792000000000004|            -16941|                -1588|                  -4970.0|                   -477| 12.061090818687727|                 1|                     1|                      1|                       1|                 1|                 0|                    2.0|                           2|                                  2|                             16|                                 0|                                 0|                                  0|                             0|                             0|                              0|  0.5021298056566661|  0.3542247319929012|  0.6212263380626669|   0.11744049917464643|     0.08844221905180051|                 0.9777348581622161|     0.7524714325927284|     0.044620715411351|  0.07894151232416623|   0.1497246700679834|  0.22628190703664716|  0.23189350049056454| 0.06633318417239706|         0.10077477495067376|    0.1073990193325995|           0.008808672617209091|     0.028357757075796745|    0.11423100693299629|      0.08754321224758496|                  0.9770653729428661|      0.7596373227337418|    0.04255313775014629|   0.07448973610916797|   0.14519265864562494|   0.22231504747847514|   0.22805849255076463|  0.06495768445657653|          0.10564485674943506|    0.10597505043712185|            0.008076387544281912|       0.02702231968598766|    0.11784992076593205|      0.08795485466574765|                  0.9777522640693693|      0.7557462721916715|     0.0445951017852909|    0.0780778443113532|   0.14921278072862998|   0.22589659009261476|    0.2316249380493541|  0.06716874904939972|          0.10195447324073269|    0.10860673604899568|            0.008651013330210322|      0.028235920597262158|    0.1025466626854412|                             0.0|                             0.0|                             0.0|                             0.0|                       -2536.0|                      0|                      1|                      0|                      0|                      0|                      0|                      0|                      0|                       0|                       0|                       0|                       0|                       0|                       0|                       0|                       0|                       0|                       0|                       0|                       0|                               0.0|                              0.0|                               0.0|                              0.0|                              1.0|                               1.0|\n",
            "|        Cash loans|          F|           Y|              Y|  Unaccompanied|Commercial associate|    Higher education|             Married|House / apartment|                    SUNDAY|Business Entity T...|                 No|            100009|             0|                   1|                171000.0|         1560726.0|            41301.0|              1395000.0|              0.035792000000000004|            -13778|                -3130|                  -1213.0|                   -619|               17.0|                 1|                     1|                      0|                       1|                 1|                 0|                    3.0|                           2|                                  2|                             16|                                 0|                                 0|                                  0|                             0|                             0|                              0|  0.7747614130547695|  0.7239998516953141|  0.4920600938649263|   0.11744049917464643|     0.08844221905180051|                 0.9777348581622161|     0.7524714325927284|     0.044620715411351|  0.07894151232416623|   0.1497246700679834|  0.22628190703664716|  0.23189350049056454| 0.06633318417239706|         0.10077477495067376|    0.1073990193325995|           0.008808672617209091|     0.028357757075796745|    0.11423100693299629|      0.08754321224758496|                  0.9770653729428661|      0.7596373227337418|    0.04255313775014629|   0.07448973610916797|   0.14519265864562494|   0.22231504747847514|   0.22805849255076463|  0.06495768445657653|          0.10564485674943506|    0.10597505043712185|            0.008076387544281912|       0.02702231968598766|    0.11784992076593205|      0.08795485466574765|                  0.9777522640693693|      0.7557462721916715|     0.0445951017852909|    0.0780778443113532|   0.14921278072862998|   0.22589659009261476|    0.2316249380493541|  0.06716874904939972|          0.10195447324073269|    0.10860673604899568|            0.008651013330210322|      0.028235920597262158|    0.1025466626854412|                             1.0|                             0.0|                             1.0|                             0.0|                       -1562.0|                      0|                      0|                      0|                      0|                      0|                      0|                      1|                      0|                       0|                       0|                       0|                       0|                       1|                       0|                       0|                       0|                       0|                       0|                       0|                       0|                               0.0|                              0.0|                               0.0|                              1.0|                              1.0|                               2.0|\n",
            "|        Cash loans|          M|           Y|              Y|  Unaccompanied|       State servant|    Higher education|             Married|House / apartment|                    MONDAY|               Other|                 No|            100010|             0|                   0|                360000.0|         1530000.0|            42075.0|              1530000.0|              0.003121999999999...|            -18850|                 -449|                  -4597.0|                  -2379|                8.0|                 1|                     1|                      1|                       1|                 0|                 0|                    2.0|                           3|                                  3|                             16|                                 0|                                 0|                                  0|                             0|                             1|                              1|  0.5021298056566661|  0.7142792864482229|  0.5406544504453575|   0.11744049917464643|     0.08844221905180051|                 0.9777348581622161|     0.7524714325927284|     0.044620715411351|  0.07894151232416623|   0.1497246700679834|  0.22628190703664716|  0.23189350049056454| 0.06633318417239706|         0.10077477495067376|    0.1073990193325995|           0.008808672617209091|     0.028357757075796745|    0.11423100693299629|      0.08754321224758496|                  0.9770653729428661|      0.7596373227337418|    0.04255313775014629|   0.07448973610916797|   0.14519265864562494|   0.22231504747847514|   0.22805849255076463|  0.06495768445657653|          0.10564485674943506|    0.10597505043712185|            0.008076387544281912|       0.02702231968598766|    0.11784992076593205|      0.08795485466574765|                  0.9777522640693693|      0.7557462721916715|     0.0445951017852909|    0.0780778443113532|   0.14921278072862998|   0.22589659009261476|    0.2316249380493541|  0.06716874904939972|          0.10195447324073269|    0.10860673604899568|            0.008651013330210322|      0.028235920597262158|    0.1025466626854412|                             2.0|                             0.0|                             2.0|                             0.0|                       -1070.0|                      0|                      1|                      0|                      0|                      0|                      0|                      0|                      0|                       0|                       0|                       0|                       0|                       0|                       0|                       0|                       0|                       0|                       0|                       0|                       0|                               0.0|                              0.0|                               0.0|                              0.0|                              0.0|                               0.0|\n",
            "|        Cash loans|          F|           N|              Y|       Children|           Pensioner|Secondary / secon...|             Married|House / apartment|                 WEDNESDAY|                 XNA|                 No|            100011|             0|                   0|                112500.0|         1019610.0|            33826.5|               913500.0|                          0.018634|            -20099|               365243|                  -7427.0|                  -3514| 12.061090818687727|                 1|                     0|                      0|                       1|                 0|                 0|                    2.0|                           2|                                  2|                             14|                                 0|                                 0|                                  0|                             0|                             0|                              0|  0.5873340468730377| 0.20574728800732814|  0.7517237147741489|   0.11744049917464643|     0.08844221905180051|                 0.9777348581622161|     0.7524714325927284|     0.044620715411351|  0.07894151232416623|   0.1497246700679834|  0.22628190703664716|  0.23189350049056454| 0.06633318417239706|         0.10077477495067376|    0.1073990193325995|           0.008808672617209091|     0.028357757075796745|    0.11423100693299629|      0.08754321224758496|                  0.9770653729428661|      0.7596373227337418|    0.04255313775014629|   0.07448973610916797|   0.14519265864562494|   0.22231504747847514|   0.22805849255076463|  0.06495768445657653|          0.10564485674943506|    0.10597505043712185|            0.008076387544281912|       0.02702231968598766|    0.11784992076593205|      0.08795485466574765|                  0.9777522640693693|      0.7557462721916715|     0.0445951017852909|    0.0780778443113532|   0.14921278072862998|   0.22589659009261476|    0.2316249380493541|  0.06716874904939972|          0.10195447324073269|    0.10860673604899568|            0.008651013330210322|      0.028235920597262158|    0.1025466626854412|                             1.0|                             0.0|                             1.0|                             0.0|                           0.0|                      0|                      1|                      0|                      0|                      0|                      0|                      0|                      0|                       0|                       0|                       0|                       0|                       0|                       0|                       0|                       0|                       0|                       0|                       0|                       0|                               0.0|                              0.0|                               0.0|                              0.0|                              0.0|                               1.0|\n",
            "|   Revolving loans|          M|           N|              Y|  Unaccompanied|             Working|Secondary / secon...|Single / not married|House / apartment|                  THURSDAY|         Electricity|                 No|            100012|             0|                   0|                135000.0|          405000.0|            20250.0|               405000.0|              0.019688999999999998|            -14469|                -2019|                 -14437.0|                  -3992| 12.061090818687727|                 1|                     1|                      0|                       1|                 0|                 0|                    1.0|                           2|                                  2|                              8|                                 0|                                 0|                                  0|                             0|                             0|                              0|  0.5021298056566661|  0.7466436294590924|  0.5108529061799263|   0.11744049917464643|     0.08844221905180051|                 0.9777348581622161|     0.7524714325927284|     0.044620715411351|  0.07894151232416623|   0.1497246700679834|  0.22628190703664716|  0.23189350049056454| 0.06633318417239706|         0.10077477495067376|    0.1073990193325995|           0.008808672617209091|     0.028357757075796745|    0.11423100693299629|      0.08754321224758496|                  0.9770653729428661|      0.7596373227337418|    0.04255313775014629|   0.07448973610916797|   0.14519265864562494|   0.22231504747847514|   0.22805849255076463|  0.06495768445657653|          0.10564485674943506|    0.10597505043712185|            0.008076387544281912|       0.02702231968598766|    0.11784992076593205|      0.08795485466574765|                  0.9777522640693693|      0.7557462721916715|     0.0445951017852909|    0.0780778443113532|   0.14921278072862998|   0.22589659009261476|    0.2316249380493541|  0.06716874904939972|          0.10195447324073269|    0.10860673604899568|            0.008651013330210322|      0.028235920597262158|    0.1025466626854412|                             2.0|                             0.0|                             2.0|                             0.0|                       -1673.0|                      0|                      0|                      0|                      0|                      0|                      0|                      0|                      0|                       0|                       0|                       0|                       0|                       0|                       0|                       0|                       0|                       0|                       0|                       0|                       0|              0.006402448193930645|             0.007000210532647...|                0.0343619356973142|              0.26739526000781977|              0.26547414959848414|                 1.899974435321363|\n",
            "|        Cash loans|          F|           N|              Y|  Unaccompanied|             Working|    Higher education|             Married|House / apartment|                  SATURDAY|            Medicine|                 No|            100014|             0|                   1|                112500.0|          652500.0|            21177.0|               652500.0|                            0.0228|            -10197|                 -679|                  -4427.0|                   -738| 12.061090818687727|                 1|                     1|                      0|                       1|                 0|                 0|                    3.0|                           2|                                  2|                             15|                                 0|                                 0|                                  0|                             0|                             0|                              0|  0.3197601716755032|  0.6518623334244781|   0.363945238612397|   0.11744049917464643|     0.08844221905180051|                 0.9777348581622161|     0.7524714325927284|     0.044620715411351|  0.07894151232416623|   0.1497246700679834|  0.22628190703664716|  0.23189350049056454| 0.06633318417239706|         0.10077477495067376|    0.1073990193325995|           0.008808672617209091|     0.028357757075796745|    0.11423100693299629|      0.08754321224758496|                  0.9770653729428661|      0.7596373227337418|    0.04255313775014629|   0.07448973610916797|   0.14519265864562494|   0.22231504747847514|   0.22805849255076463|  0.06495768445657653|          0.10564485674943506|    0.10597505043712185|            0.008076387544281912|       0.02702231968598766|    0.11784992076593205|      0.08795485466574765|                  0.9777522640693693|      0.7557462721916715|     0.0445951017852909|    0.0780778443113532|   0.14921278072862998|   0.22589659009261476|    0.2316249380493541|  0.06716874904939972|          0.10195447324073269|    0.10860673604899568|            0.008651013330210322|      0.028235920597262158|    0.1025466626854412|                             0.0|                             0.0|                             0.0|                             0.0|                        -844.0|                      0|                      1|                      0|                      0|                      0|                      0|                      0|                      0|                       0|                       0|                       0|                       0|                       0|                       0|                       0|                       0|                       0|                       0|                       0|                       0|                               0.0|                              0.0|                               0.0|                              1.0|                              0.0|                               0.0|\n",
            "|        Cash loans|          F|           N|              Y|       Children|           Pensioner|Secondary / secon...|             Married|House / apartment|                    FRIDAY|                 XNA|                 No|            100015|             0|                   0|               38419.155|          148365.0|            10678.5|               135000.0|                          0.015221|            -20417|               365243|                  -5246.0|                  -2512| 12.061090818687727|                 1|                     0|                      0|                       1|                 1|                 0|                    2.0|                           2|                                  2|                              7|                                 0|                                 0|                                  0|                             0|                             0|                              0|  0.7220444501416448|  0.5551831615131809|  0.6528965519806539|   0.11744049917464643|     0.08844221905180051|                 0.9777348581622161|     0.7524714325927284|     0.044620715411351|  0.07894151232416623|   0.1497246700679834|  0.22628190703664716|  0.23189350049056454| 0.06633318417239706|         0.10077477495067376|    0.1073990193325995|           0.008808672617209091|     0.028357757075796745|    0.11423100693299629|      0.08754321224758496|                  0.9770653729428661|      0.7596373227337418|    0.04255313775014629|   0.07448973610916797|   0.14519265864562494|   0.22231504747847514|   0.22805849255076463|  0.06495768445657653|          0.10564485674943506|    0.10597505043712185|            0.008076387544281912|       0.02702231968598766|    0.11784992076593205|      0.08795485466574765|                  0.9777522640693693|      0.7557462721916715|     0.0445951017852909|    0.0780778443113532|   0.14921278072862998|   0.22589659009261476|    0.2316249380493541|  0.06716874904939972|          0.10195447324073269|    0.10860673604899568|            0.008651013330210322|      0.028235920597262158|    0.1025466626854412|                             0.0|                             0.0|                             0.0|                             0.0|                       -2396.0|                      0|                      0|                      0|                      0|                      1|                      0|                      0|                      0|                       0|                       0|                       0|                       0|                       0|                       0|                       0|                       0|                       0|                       0|                       0|                       0|                               0.0|                              0.0|                               0.0|                              0.0|                              0.0|                               2.0|\n",
            "|        Cash loans|          F|           N|              Y|  Unaccompanied|             Working|Secondary / secon...|             Married|House / apartment|                    FRIDAY|Business Entity T...|                 No|            100016|             0|                   0|                 67500.0|           80865.0|             5881.5|                67500.0|                          0.031329|            -13439|                -2717|                   -311.0|                  -3227| 12.061090818687727|                 1|                     1|                      1|                       1|                 1|                 0|                    2.0|                           2|                                  2|                             10|                                 0|                                 0|                                  0|                             0|                             0|                              0|  0.4648311169632833|  0.7150418188660659|  0.1766525794312139|                0.0825|     0.08844221905180051|                             0.9811|     0.7524714325927284|     0.044620715411351|                  0.0|               0.2069|               0.1667|  0.23189350049056454|              0.0135|         0.10077477495067376|                0.0778|           0.008808672617209091|                      0.0|                  0.084|      0.08754321224758496|                              0.9811|      0.7596373227337418|    0.04255313775014629|                   0.0|                0.2069|                0.1667|   0.22805849255076463|               0.0138|          0.10564485674943506|                  0.081|            0.008076387544281912|                       0.0|                 0.0833|      0.08795485466574765|                              0.9811|      0.7557462721916715|     0.0445951017852909|                   0.0|                0.2069|                0.1667|    0.2316249380493541|               0.0137|          0.10195447324073269|                 0.0792|            0.008651013330210322|                       0.0|                0.0612|                             0.0|                             0.0|                             0.0|                             0.0|                       -2370.0|                      0|                      1|                      0|                      0|                      0|                      0|                      0|                      0|                       0|                       0|                       0|                       0|                       0|                       0|                       0|                       0|                       0|                       0|                       0|                       0|                               0.0|                              0.0|                               0.0|                              1.0|                              0.0|                               0.0|\n",
            "|        Cash loans|          M|           Y|              N|  Unaccompanied|             Working|Secondary / secon...|             Married|House / apartment|                  THURSDAY|       Self-employed|                 No|            100017|             0|                   1|                225000.0|          918468.0|            28966.5|               697500.0|              0.016612000000000002|            -14086|                -3028|                   -643.0|                  -4911|               23.0|                 1|                     1|                      0|                       1|                 0|                 0|                    3.0|                           2|                                  2|                             13|                                 0|                                 0|                                  0|                             0|                             0|                              0|  0.5021298056566661|  0.5669066132460429|  0.7700870700124128|                0.1474|                  0.0973|                             0.9806|                 0.7348|                0.0582|                 0.16|               0.1379|               0.3333|                0.375|              0.0931|                      0.1202|                0.1397|                            0.0|                      0.0|                 0.1502|                    0.101|                              0.9806|                  0.7452|                 0.0587|                0.1611|                0.1379|                0.3333|                 0.375|               0.0952|                       0.1313|                 0.1456|                             0.0|                       0.0|                 0.1489|                   0.0973|                              0.9806|                  0.7383|                 0.0585|                  0.16|                0.1379|                0.3333|                 0.375|               0.0947|                       0.1223|                 0.1422|                             0.0|                       0.0|                0.1417|                             0.0|                             0.0|                             0.0|                             0.0|                          -4.0|                      0|                      1|                      0|                      0|                      0|                      0|                      0|                      0|                       0|                       0|                       0|                       0|                       0|                       0|                       0|                       0|                       0|                       0|                       0|                       0|                               0.0|                              0.0|                               0.0|                              0.0|                              0.0|                               1.0|\n",
            "|        Cash loans|          F|           N|              Y|  Unaccompanied|             Working|Secondary / secon...|             Married|House / apartment|                    MONDAY|   Transport: type 2|                 No|            100018|             0|                   0|                189000.0|          773680.5|            32778.0|               679500.0|              0.010006000000000001|            -14583|                 -203|                   -615.0|                  -2056| 12.061090818687727|                 1|                     1|                      0|                       1|                 0|                 0|                    2.0|                           2|                                  1|                              9|                                 0|                                 0|                                  0|                             0|                             0|                              0|  0.7219397686622343|  0.6426562048311103|  0.5108529061799263|                0.3495|                  0.1335|                             0.9985|                 0.9796|                0.1143|                  0.4|               0.1724|               0.6667|               0.7083|              0.1758|                      0.2849|                0.3774|                         0.0193|                   0.1001|                 0.3561|                   0.1386|                              0.9985|                  0.9804|                 0.1153|                0.4028|                0.1724|                0.6667|                0.7083|               0.1798|                       0.3113|                 0.3932|                          0.0195|                     0.106|                 0.3529|                   0.1335|                              0.9985|                  0.9799|                  0.115|                   0.4|                0.1724|                0.6667|                0.7083|               0.1789|                       0.2899|                 0.3842|                          0.0194|                    0.1022|                0.3811|                             0.0|                             0.0|                             0.0|                             0.0|                        -188.0|                      0|                      1|                      0|                      0|                      0|                      0|                      0|                      0|                       0|                       0|                       0|                       0|                       0|                       0|                       0|                       0|                       0|                       0|                       0|                       0|              0.006402448193930645|             0.007000210532647...|                0.0343619356973142|              0.26739526000781977|              0.26547414959848414|                 1.899974435321363|\n",
            "|        Cash loans|          M|           Y|              Y|         Family|             Working|Secondary / secon...|Single / not married| Rented apartment|                  SATURDAY|Business Entity T...|                 No|            100019|             0|                   0|                157500.0|          299772.0|            20160.0|               247500.0|                          0.020713|             -8728|                -1157|                  -3494.0|                  -1368|               17.0|                 1|                     1|                      0|                       1|                 0|                 0|                    1.0|                           3|                                  3|                              6|                                 0|                                 0|                                  0|                             1|                             1|                              0| 0.11563433726229973|    0.34663398139668|  0.6785676886853644|   0.11744049917464643|     0.08844221905180051|                 0.9777348581622161|     0.7524714325927284|     0.044620715411351|  0.07894151232416623|   0.1497246700679834|  0.22628190703664716|  0.23189350049056454| 0.06633318417239706|         0.10077477495067376|    0.1073990193325995|           0.008808672617209091|     0.028357757075796745|    0.11423100693299629|      0.08754321224758496|                  0.9770653729428661|      0.7596373227337418|    0.04255313775014629|   0.07448973610916797|   0.14519265864562494|   0.22231504747847514|   0.22805849255076463|  0.06495768445657653|          0.10564485674943506|    0.10597505043712185|            0.008076387544281912|       0.02702231968598766|    0.11784992076593205|      0.08795485466574765|                  0.9777522640693693|      0.7557462721916715|     0.0445951017852909|    0.0780778443113532|   0.14921278072862998|   0.22589659009261476|    0.2316249380493541|  0.06716874904939972|          0.10195447324073269|    0.10860673604899568|            0.008651013330210322|      0.028235920597262158|    0.1025466626854412|                             0.0|                             0.0|                             0.0|                             0.0|                        -925.0|                      0|                      0|                      0|                      0|                      0|                      0|                      1|                      0|                       0|                       0|                       0|                       0|                       0|                       0|                       0|                       0|                       0|                       0|                       0|                       0|                               0.0|                              0.0|                               0.0|                              0.0|                              0.0|                               1.0|\n",
            "|        Cash loans|          M|           N|              N|  Unaccompanied|             Working|Secondary / secon...|             Married|House / apartment|                  THURSDAY|          Government|                 No|            100020|             0|                   0|                108000.0|          509602.5|            26149.5|               387000.0|                          0.018634|            -12931|                -1317|                  -6392.0|                  -3866| 12.061090818687727|                 1|                     1|                      0|                       1|                 0|                 0|                    2.0|                           2|                                  2|                             12|                                 0|                                 0|                                  0|                             1|                             1|                              0|  0.5021298056566661|  0.2363778398884225| 0.06210303783729682|   0.11744049917464643|     0.08844221905180051|                 0.9777348581622161|     0.7524714325927284|     0.044620715411351|  0.07894151232416623|   0.1497246700679834|  0.22628190703664716|  0.23189350049056454| 0.06633318417239706|         0.10077477495067376|    0.1073990193325995|           0.008808672617209091|     0.028357757075796745|    0.11423100693299629|      0.08754321224758496|                  0.9770653729428661|      0.7596373227337418|    0.04255313775014629|   0.07448973610916797|   0.14519265864562494|   0.22231504747847514|   0.22805849255076463|  0.06495768445657653|          0.10564485674943506|    0.10597505043712185|            0.008076387544281912|       0.02702231968598766|    0.11784992076593205|      0.08795485466574765|                  0.9777522640693693|      0.7557462721916715|     0.0445951017852909|    0.0780778443113532|   0.14921278072862998|   0.22589659009261476|    0.2316249380493541|  0.06716874904939972|          0.10195447324073269|    0.10860673604899568|            0.008651013330210322|      0.028235920597262158|    0.1025466626854412|                             0.0|                             0.0|                             0.0|                             0.0|                          -3.0|                      0|                      1|                      0|                      0|                      0|                      0|                      0|                      0|                       0|                       0|                       0|                       0|                       0|                       0|                       0|                       0|                       0|                       0|                       0|                       0|                               0.0|                              0.0|                               0.0|                              0.0|                              1.0|                               0.0|\n",
            "|   Revolving loans|          F|           N|              Y|  Unaccompanied|             Working|Secondary / secon...|             Married|House / apartment|                    MONDAY|        Construction|                 No|            100021|             0|                   1|                 81000.0|          270000.0|            13500.0|               270000.0|                          0.010966|             -9776|                 -191|                  -4143.0|                  -2427| 12.061090818687727|                 1|                     1|                      0|                       1|                 0|                 0|                    3.0|                           2|                                  2|                             10|                                 0|                                 0|                                  0|                             1|                             1|                              0|  0.5021298056566661|  0.6835133461914255|  0.5108529061799263|   0.11744049917464643|     0.08844221905180051|                 0.9777348581622161|     0.7524714325927284|     0.044620715411351|  0.07894151232416623|   0.1497246700679834|  0.22628190703664716|  0.23189350049056454| 0.06633318417239706|         0.10077477495067376|    0.1073990193325995|           0.008808672617209091|     0.028357757075796745|    0.11423100693299629|      0.08754321224758496|                  0.9770653729428661|      0.7596373227337418|    0.04255313775014629|   0.07448973610916797|   0.14519265864562494|   0.22231504747847514|   0.22805849255076463|  0.06495768445657653|          0.10564485674943506|    0.10597505043712185|            0.008076387544281912|       0.02702231968598766|    0.11784992076593205|      0.08795485466574765|                  0.9777522640693693|      0.7557462721916715|     0.0445951017852909|    0.0780778443113532|   0.14921278072862998|   0.22589659009261476|    0.2316249380493541|  0.06716874904939972|          0.10195447324073269|    0.10860673604899568|            0.008651013330210322|      0.028235920597262158|    0.1025466626854412|                             4.0|                             0.0|                             4.0|                             0.0|                       -2811.0|                      0|                      0|                      0|                      0|                      0|                      0|                      0|                      0|                       0|                       0|                       0|                       0|                       0|                       0|                       0|                       0|                       0|                       0|                       0|                       0|              0.006402448193930645|             0.007000210532647...|                0.0343619356973142|              0.26739526000781977|              0.26547414959848414|                 1.899974435321363|\n",
            "|   Revolving loans|          F|           N|              Y|        Other_A|             Working|Secondary / secon...|               Widow|House / apartment|                    FRIDAY|             Housing|                 No|            100022|             0|                   0|                112500.0|          157500.0|             7875.0|               157500.0|                           0.04622|            -17718|                -7804|                  -8751.0|                  -1259| 12.061090818687727|                 1|                     1|                      0|                       1|                 1|                 0|                    1.0|                           1|                                  1|                             13|                                 0|                                 0|                                  0|                             0|                             0|                              0|  0.5021298056566661|  0.7064284028871654|  0.5567274263630174|                0.0278|                  0.0617|                             0.9881|                 0.8368|                0.0018|                  0.0|               0.1034|               0.0833|                0.125|              0.0279|                      0.0227|                 0.029|                            0.0|                      0.0|                 0.0284|                    0.064|                              0.9881|                  0.8432|                 0.0018|                   0.0|                0.1034|                0.0833|                 0.125|               0.0286|                       0.0248|                 0.0302|                             0.0|                       0.0|                 0.0281|                   0.0617|                              0.9881|      0.8390000000000001|                 0.0018|                   0.0|                0.1034|                0.0833|                 0.125|               0.0284|                       0.0231|                 0.0295|                             0.0|                       0.0|                0.0238|                             8.0|                             0.0|                             8.0|                             0.0|                        -239.0|                      0|                      1|                      0|                      0|                      0|                      0|                      0|                      0|                       0|                       0|                       0|                       0|                       0|                       0|                       0|                       0|                       0|                       0|                       0|                       0|                               0.0|                              0.0|                               0.0|                              0.0|                              0.0|                               0.0|\n",
            "|        Cash loans|          F|           N|              Y|  Unaccompanied|       State servant|    Higher education|Single / not married|House / apartment|                    MONDAY|        Kindergarten|                 No|            100023|             0|                   1|                 90000.0|          544491.0|            17563.5|               454500.0|                          0.015221|            -11348|                -2038|                  -1021.0|                  -3964| 12.061090818687727|                 1|                     1|                      1|                       1|                 1|                 0|                    2.0|                           2|                                  2|                             12|                                 0|                                 0|                                  0|                             0|                             0|                              0|  0.5021298056566661|  0.5866171400119664|  0.4776491548517548|   0.11744049917464643|     0.08844221905180051|                 0.9777348581622161|     0.7524714325927284|     0.044620715411351|  0.07894151232416623|   0.1497246700679834|  0.22628190703664716|  0.23189350049056454| 0.06633318417239706|         0.10077477495067376|    0.1073990193325995|           0.008808672617209091|     0.028357757075796745|    0.11423100693299629|      0.08754321224758496|                  0.9770653729428661|      0.7596373227337418|    0.04255313775014629|   0.07448973610916797|   0.14519265864562494|   0.22231504747847514|   0.22805849255076463|  0.06495768445657653|          0.10564485674943506|    0.10597505043712185|            0.008076387544281912|       0.02702231968598766|    0.11784992076593205|      0.08795485466574765|                  0.9777522640693693|      0.7557462721916715|     0.0445951017852909|    0.0780778443113532|   0.14921278072862998|   0.22589659009261476|    0.2316249380493541|  0.06716874904939972|          0.10195447324073269|    0.10860673604899568|            0.008651013330210322|      0.028235920597262158|    0.1025466626854412|                             0.0|                             0.0|                             0.0|                             0.0|                       -1850.0|                      0|                      1|                      0|                      0|                      0|                      0|                      0|                      0|                       0|                       0|                       0|                       0|                       0|                       0|                       0|                       0|                       0|                       0|                       0|                       0|                               0.0|                              0.0|                               0.0|                              0.0|                              0.0|                               2.0|\n",
            "+------------------+-----------+------------+---------------+---------------+--------------------+--------------------+--------------------+-----------------+--------------------------+--------------------+-------------------+------------------+--------------+--------------------+------------------------+------------------+-------------------+-----------------------+----------------------------------+------------------+---------------------+-------------------------+-----------------------+-------------------+------------------+----------------------+-----------------------+------------------------+------------------+------------------+-----------------------+----------------------------+-----------------------------------+-------------------------------+----------------------------------+----------------------------------+-----------------------------------+------------------------------+------------------------------+-------------------------------+--------------------+--------------------+--------------------+----------------------+------------------------+-----------------------------------+-----------------------+----------------------+---------------------+---------------------+---------------------+---------------------+--------------------+----------------------------+----------------------+-------------------------------+-------------------------+-----------------------+-------------------------+------------------------------------+------------------------+-----------------------+----------------------+----------------------+----------------------+----------------------+---------------------+-----------------------------+-----------------------+--------------------------------+--------------------------+-----------------------+-------------------------+------------------------------------+------------------------+-----------------------+----------------------+----------------------+----------------------+----------------------+---------------------+-----------------------------+-----------------------+--------------------------------+--------------------------+----------------------+--------------------------------+--------------------------------+--------------------------------+--------------------------------+------------------------------+-----------------------+-----------------------+-----------------------+-----------------------+-----------------------+-----------------------+-----------------------+-----------------------+------------------------+------------------------+------------------------+------------------------+------------------------+------------------------+------------------------+------------------------+------------------------+------------------------+------------------------+------------------------+----------------------------------+---------------------------------+----------------------------------+---------------------------------+---------------------------------+----------------------------------+\n",
            "only showing top 20 rows\n",
            "\n"
          ]
        }
      ],
      "source": [
        "#removing the nan values for categorical feature from the dataframe\n",
        "def cat_na_remove(cat_col,df_num_updated):\n",
        "  modes = {}\n",
        "  drop = []\n",
        "\n",
        "  for i in cat_col:\n",
        "    val =  df_num_updated.groupby(i).count().orderBy(\"count\", ascending=False).first()[0]\n",
        "    if val!=None:\n",
        "      modes[i] = val\n",
        "    else:\n",
        "      drop.append(i)\n",
        "\n",
        "  for i in modes:\n",
        "    df_cat = df_num_updated.na.fill(modes[i],i)\n",
        "\n",
        "  df_updated = df_cat.drop(*drop)\n",
        "  return df_updated, modes \n",
        "\n",
        "\n",
        "df_updated,modes = cat_na_remove(cat_col,df_num_updated)\n",
        "df_updated.show()\n"
      ]
    },
    {
      "cell_type": "code",
      "execution_count": null,
      "metadata": {
        "colab": {
          "base_uri": "https://localhost:8080/"
        },
        "id": "oWhwOJGwqKU6",
        "outputId": "d5b14263-d6a7-49d6-a1d5-7ffce79f9c04"
      },
      "outputs": [
        {
          "name": "stdout",
          "output_type": "stream",
          "text": [
            "{'NAME_CONTRACT_TYPE': 'Cash loans', 'CODE_GENDER': 'F', 'FLAG_OWN_CAR': 'N', 'FLAG_OWN_REALTY': 'Y', 'NAME_TYPE_SUITE': 'Unaccompanied', 'NAME_INCOME_TYPE': 'Working', 'NAME_EDUCATION_TYPE': 'Secondary / secondary special', 'NAME_FAMILY_STATUS': 'Married', 'NAME_HOUSING_TYPE': 'House / apartment', 'WEEKDAY_APPR_PROCESS_START': 'TUESDAY', 'ORGANIZATION_TYPE': 'Business Entity Type 3', 'EMERGENCYSTATE_MODE': 'No'}\n"
          ]
        }
      ],
      "source": [
        "print(modes)"
      ]
    },
    {
      "cell_type": "code",
      "execution_count": null,
      "metadata": {
        "colab": {
          "base_uri": "https://localhost:8080/"
        },
        "id": "HLAYcaB0aJVm",
        "outputId": "cc5536ec-2a37-4850-a9df-1104feaa4371"
      },
      "outputs": [
        {
          "name": "stdout",
          "output_type": "stream",
          "text": [
            "[['NAME_TYPE_SUITE', 1292]]\n",
            "[]\n"
          ]
        }
      ],
      "source": [
        "print(check_na(df_updated))\n",
        "df_updated = df_updated.na.fill( 'Unaccompanied','NAME_TYPE_SUITE')\n",
        "print(check_na(df_updated))\n"
      ]
    },
    {
      "cell_type": "code",
      "execution_count": null,
      "metadata": {
        "id": "W437B4jX5ZsZ"
      },
      "outputs": [],
      "source": [
        "#remove the null values from the categorical data\n",
        "# imputer_cat = Imputer(inputCols =,\n",
        "#                   outputCols = [\"{}_imputed\".format(a) for a in modes.keys()]).setStrategy(\"mode\")\n",
        "# df_cat = imputer_cat.fit(df_num_updated).transform(df_num_updated)\n",
        "# print(\"the shape of dataframe after imputation\", (df_cat.count(),len(df_cat.columns)))"
      ]
    },
    {
      "cell_type": "code",
      "execution_count": null,
      "metadata": {
        "id": "5gi-HgFKfLQc"
      },
      "outputs": [],
      "source": [
        "#drop the unuseful function \n"
      ]
    },
    {
      "cell_type": "code",
      "execution_count": null,
      "metadata": {
        "colab": {
          "base_uri": "https://localhost:8080/",
          "height": 296
        },
        "id": "dHoXlh1PAFhc",
        "outputId": "aa4ab791-5c25-4236-b116-ef0fb0380bfa"
      },
      "outputs": [
        {
          "data": {
            "text/plain": [
              "<matplotlib.axes._subplots.AxesSubplot at 0x7f64dea84520>"
            ]
          },
          "execution_count": 22,
          "metadata": {},
          "output_type": "execute_result"
        },
        {
          "data": {
            "image/png": "[encoded data removed]",
            "text/plain": [
              "<Figure size 432x288 with 1 Axes>"
            ]
          },
          "metadata": {},
          "output_type": "display_data"
        }
      ],
      "source": [
        "#check for the class imbalance in dataframe\n",
        "sns.countplot(x = pd_dataframe[\"TARGET\"])  \n"
      ]
    },
    {
      "cell_type": "code",
      "execution_count": null,
      "metadata": {
        "id": "uN-YE-z7NdA-"
      },
      "outputs": [],
      "source": [
        "#obtaining the column weights to handle class imbalance\n",
        "#creating a function to obtained the ratio for weighted loss function\n",
        "\n",
        "def weighted_fun(df,i):\n",
        "  datafrme = df.groupby(i).count().orderBy(\"count\")\n",
        "  val1 = datafrme.collect()[0][\"count\"]\n",
        "  val2  = datafrme.collect()[1][\"count\"]\n",
        "  summation = val1+val2\n",
        "  ration_maj = val1/summation\n",
        "  ration_min = val2/summation\n",
        "  return round(ration_min,3),round(ration_maj,3)\n",
        "min,maj = weighted_fun(df_updated,\"TARGET_imputed\")\n",
        "\n",
        "\n",
        "def weighted_col(i,min,maj):\n",
        "  return when(i==1,min).otherwise(1*maj)\n",
        "df_updated = df_updated.withColumn(\"weights\",weighted_col(col(\"TARGET_imputed\"),min,maj))"
      ]
    },
    {
      "cell_type": "code",
      "execution_count": null,
      "metadata": {
        "colab": {
          "base_uri": "https://localhost:8080/"
        },
        "id": "Nh5ubt3iThC1",
        "outputId": "99929f05-d967-4ebe-9aad-6ed0bf308cfd"
      },
      "outputs": [
        {
          "name": "stdout",
          "output_type": "stream",
          "text": [
            "['NAME_CONTRACT_TYPE', 'CODE_GENDER', 'FLAG_OWN_CAR', 'FLAG_OWN_REALTY', 'NAME_TYPE_SUITE', 'NAME_INCOME_TYPE', 'NAME_EDUCATION_TYPE', 'NAME_FAMILY_STATUS', 'NAME_HOUSING_TYPE', 'WEEKDAY_APPR_PROCESS_START', 'ORGANIZATION_TYPE', 'EMERGENCYSTATE_MODE']\n"
          ]
        }
      ],
      "source": [
        "new_numcol = []\n",
        "new_catcol = []\n",
        "for i in df_updated.dtypes:\n",
        "  if i[1]==\"string\":\n",
        "    new_catcol.append(i[0])\n",
        "  else:\n",
        "    new_numcol.append(i[0])\n",
        "new_numcol.remove(\"TARGET_imputed\")\n",
        "new_numcol.remove(\"weights\")\n",
        "print(new_catcol)"
      ]
    },
    {
      "cell_type": "code",
      "execution_count": null,
      "metadata": {
        "id": "LGBwlOONLEJq"
      },
      "outputs": [],
      "source": [
        "#encoding the categorical values\n",
        "from pyspark.ml.feature import OneHotEncoder, StringIndexer, VectorAssembler\n",
        "stages = []\n",
        "input_cat = []\n",
        "for categorical_fet in new_catcol:\n",
        "  labelencoder = StringIndexer(inputCol = categorical_fet,outputCol = categorical_fet+\"Index\" )\n",
        "  onehotencoder = OneHotEncoder(inputCols = [labelencoder.getOutputCol()],outputCols =[categorical_fet+\"_vec\"] )\n",
        "  stages += [labelencoder,onehotencoder]\n",
        "  input_cat.append(categorical_fet+\"_vec\")\n",
        "  \n",
        "inputs = input_cat+new_numcol\n",
        "assemble = VectorAssembler(inputCols = inputs,outputCol = \"features\")\n",
        "stages += [assemble]"
      ]
    },
    {
      "cell_type": "code",
      "execution_count": null,
      "metadata": {
        "id": "232ill0tP1qJ"
      },
      "outputs": [],
      "source": [
        "from pyspark.ml import Pipeline\n",
        "pipeline = Pipeline(stages = stages)\n",
        "pipeline_model = pipeline.fit(df_updated)\n",
        "new_df = pipeline_model.transform(df_updated)\n"
      ]
    },
    {
      "cell_type": "code",
      "execution_count": null,
      "metadata": {
        "id": "ewfPL2dkkfE9"
      },
      "outputs": [],
      "source": [
        "cols = df_updated.columns\n",
        "selectedCols = ['features']+cols\n",
        "new_df = new_df.select(selectedCols)\n",
        "new_df = new_df.withColumnRenamed(\"TARGET_imputed\",\"label\")\n",
        "\n",
        "#splting the dataframe\n",
        "train,test = new_df.randomSplit([0.7,0.3],seed = 2018)\n"
      ]
    },
    {
      "cell_type": "code",
      "execution_count": null,
      "metadata": {
        "id": "32r7m_yOULdd"
      },
      "outputs": [],
      "source": [
        "from pyspark.ml.classification import LogisticRegression\n",
        "lr_model = LogisticRegression(featuresCol = \"features\",labelCol = \"label\",maxIter=15)\n",
        "lr = lr_model.fit(train)"
      ]
    },
    {
      "cell_type": "code",
      "execution_count": null,
      "metadata": {
        "colab": {
          "base_uri": "https://localhost:8080/",
          "height": 312
        },
        "id": "Vku-KcXvqylV",
        "outputId": "d9d4bce7-c91c-4c97-9022-25bb27368fdf"
      },
      "outputs": [
        {
          "data": {
            "image/png": "[encoded data removed]",
            "text/plain": [
              "<Figure size 432x288 with 1 Axes>"
            ]
          },
          "metadata": {},
          "output_type": "display_data"
        },
        {
          "name": "stdout",
          "output_type": "stream",
          "text": [
            "Training set ROC: 0.744799441193216\n"
          ]
        }
      ],
      "source": [
        "import matplotlib.pyplot as plt\n",
        "summary = lr.summary\n",
        "roc  = summary.roc.toPandas()\n",
        "plt.plot(roc['FPR'],roc['TPR'])\n",
        "plt.ylabel('False Positive Rate')\n",
        "plt.xlabel('True Positive Rate')\n",
        "plt.title('ROC Curve')\n",
        "plt.show()\n",
        "print('Training set ROC: ' + str(summary.areaUnderROC))"
      ]
    },
    {
      "cell_type": "code",
      "execution_count": null,
      "metadata": {
        "colab": {
          "base_uri": "https://localhost:8080/"
        },
        "id": "GZtQMF2nuSv5",
        "outputId": "9a3a18e3-8f91-4456-c65c-2038c1deddf6"
      },
      "outputs": [
        {
          "name": "stdout",
          "output_type": "stream",
          "text": [
            "Test SET ROC: 0.7466475050473289\n"
          ]
        }
      ],
      "source": [
        "#evaluating Logistic Regression\n",
        "from pyspark.ml.evaluation import BinaryClassificationEvaluator\n",
        "predict = lr.transform(test)\n",
        "evaluator = BinaryClassificationEvaluator()\n",
        "print(\"Test SET ROC: \" + str(evaluator.evaluate(predict, {evaluator.metricName: \"areaUnderROC\"})))\n",
        "\n",
        "\n"
      ]
    },
    {
      "cell_type": "code",
      "execution_count": null,
      "metadata": {
        "id": "k2pEvayEmdRj"
      },
      "outputs": [],
      "source": [
        "#Random forest\n",
        "from pyspark.ml.classification import RandomForestClassifier\n",
        "forest = RandomForestClassifier(featuresCol=\"features\",labelCol = \"label\")\n",
        "model_fr = forest.fit(train)"
      ]
    },
    {
      "cell_type": "code",
      "execution_count": null,
      "metadata": {
        "colab": {
          "base_uri": "https://localhost:8080/",
          "height": 312
        },
        "id": "ihpWZUvTCZNC",
        "outputId": "bcc5008c-78f2-4c43-8fe4-f36b390f4212"
      },
      "outputs": [
        {
          "data": {
            "image/png": "[encoded data removed]",
            "text/plain": [
              "<Figure size 432x288 with 1 Axes>"
            ]
          },
          "metadata": {},
          "output_type": "display_data"
        },
        {
          "name": "stdout",
          "output_type": "stream",
          "text": [
            "Training set ROC: 0.744799441193216\n"
          ]
        }
      ],
      "source": [
        "summary_fr = lr.summary\n",
        "roc  = summary_fr.roc.toPandas()\n",
        "plt.plot(roc['FPR'],roc['TPR'])\n",
        "plt.ylabel('False Positive Rate')\n",
        "plt.xlabel('True Positive Rate')\n",
        "plt.title('ROC Curve')\n",
        "plt.show()\n",
        "print('Training set ROC: ' + str(summary_fr.areaUnderROC))"
      ]
    },
    {
      "cell_type": "code",
      "execution_count": null,
      "metadata": {
        "id": "UDnFJTg5Ej4J"
      },
      "outputs": [],
      "source": [
        "#evaluating the Random forest\n",
        "from pyspark.ml.evaluation import BinaryClassificationEvaluator\n",
        "predict = model_fr.transform(test)\n",
        "evaluator = BinaryClassificationEvaluator()\n",
        "print(\"Test SET ROC: \" + str(evaluator.evaluate(predict, {evaluator.metricName: \"areaUnderROC\"})))\n",
        "\n"
      ]
    },
    {
      "cell_type": "code",
      "execution_count": null,
      "metadata": {
        "colab": {
          "background_save": true
        },
        "id": "iSs5lnjCEymq"
      },
      "outputs": [],
      "source": [
        "#Train the gradient boost\n",
        "from pyspark.ml.classification import GBTClassifier\n",
        "gbt = GBTClassifier(labelCol = 'label',featuresCol = 'features',maxIter = 10)\n",
        "gbt_model = gbt.fit(train)"
      ]
    },
    {
      "cell_type": "code",
      "execution_count": null,
      "metadata": {
        "id": "O56MbSpMfjcC"
      },
      "outputs": [],
      "source": [
        "#evaluate the gradient boost model\n",
        "from pyspark.ml.evaluation import BinaryClassificationEvaluator\n",
        "predict = gbt_model.transform(test)\n",
        "evaluator = BinaryClassificationEvaluator()\n",
        "print(\"Test SET ROC: \" + str(evaluator.evaluate(predict, {evaluator.metricName: \"areaUnderROC\"})))\n"
      ]
    },
    {
      "cell_type": "code",
      "execution_count": null,
      "metadata": {
        "id": "eYnX0nlm7fNy"
      },
      "outputs": [],
      "source": []
    }
  ],
  "metadata": {
    "accelerator": "GPU",
    "colab": {
      "provenance": []
    },
    "gpuClass": "standard",
    "kernelspec": {
      "display_name": "pyspark_tut",
      "language": "python",
      "name": "python3"
    },
    "language_info": {
      "codemirror_mode": {
        "name": "ipython",
        "version": 3
      },
      "file_extension": ".py",
      "mimetype": "text/x-python",
      "name": "python",
      "nbconvert_exporter": "python",
      "pygments_lexer": "ipython3",
      "version": "3.7.0"
    },
    "vscode": {
      "interpreter": {
        "hash": "ed0a6ed8606a535799c7b1057c077500a153be5181decfe5f50fc49c19d900cb"
      }
    }
  },
  "nbformat": 4,
  "nbformat_minor": 0
}